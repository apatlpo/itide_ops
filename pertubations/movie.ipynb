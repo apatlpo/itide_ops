{
 "cells": [
  {
   "cell_type": "code",
   "execution_count": 1,
   "metadata": {},
   "outputs": [
    {
     "name": "stderr",
     "output_type": "stream",
     "text": [
      "/home1/datahome/aponte/.miniconda3/envs/equinox/lib/python3.7/site-packages/dask/dataframe/utils.py:14: FutureWarning: pandas.util.testing is deprecated. Use the functions in the public API at pandas.testing instead.\n",
      "  import pandas.util.testing as tm\n",
      "/home1/datahome/aponte/.miniconda3/envs/equinox/lib/python3.7/site-packages/distributed/utils.py:137: RuntimeWarning: Couldn't detect a suitable IP address for reaching '8.8.8.8', defaulting to '127.0.0.1': [Errno 101] Network is unreachable\n",
      "  RuntimeWarning,\n"
     ]
    }
   ],
   "source": [
    "import os\n",
    "from glob import glob\n",
    "import threading\n",
    "\n",
    "import numpy as np\n",
    "import dask.dataframe as dd\n",
    "from dask import delayed\n",
    "import pandas as pd\n",
    "import xarray as xr\n",
    "\n",
    "%matplotlib inline\n",
    "from matplotlib import pyplot as plt\n",
    "#import matplotlib.animation as anim\n",
    "\n",
    "import crocosi.postp as pp"
   ]
  },
  {
   "cell_type": "markdown",
   "metadata": {},
   "source": [
    "---"
   ]
  },
  {
   "cell_type": "code",
   "execution_count": 2,
   "metadata": {},
   "outputs": [],
   "source": [
    "from dask_jobqueue import PBSCluster\n",
    "cluster = PBSCluster()\n",
    "#w = cluster.scale(jobs=2)\n",
    "w = cluster.scale(2*28)"
   ]
  },
  {
   "cell_type": "code",
   "execution_count": 3,
   "metadata": {},
   "outputs": [],
   "source": [
    "from dask.distributed import Client\n",
    "#client = Client()  # set up local cluster on your laptop\n",
    "client = Client(cluster) # with distributed cluster"
   ]
  },
  {
   "cell_type": "code",
   "execution_count": 4,
   "metadata": {},
   "outputs": [
    {
     "data": {
      "text/html": [
       "<table style=\"border: 2px solid white;\">\n",
       "<tr>\n",
       "<td style=\"vertical-align: top; border: 0px solid white\">\n",
       "<h3 style=\"text-align: left;\">Client</h3>\n",
       "<ul style=\"text-align: left; list-style: none; margin: 0; padding: 0;\">\n",
       "  <li><b>Scheduler: </b>tcp://10.148.1.103:59320</li>\n",
       "  <li><b>Dashboard: </b><a href='http://10.148.1.103:8787/status' target='_blank'>http://10.148.1.103:8787/status</a>\n",
       "</ul>\n",
       "</td>\n",
       "<td style=\"vertical-align: top; border: 0px solid white\">\n",
       "<h3 style=\"text-align: left;\">Cluster</h3>\n",
       "<ul style=\"text-align: left; list-style:none; margin: 0; padding: 0;\">\n",
       "  <li><b>Workers: </b>0</li>\n",
       "  <li><b>Cores: </b>0</li>\n",
       "  <li><b>Memory: </b>0 B</li>\n",
       "</ul>\n",
       "</td>\n",
       "</tr>\n",
       "</table>"
      ],
      "text/plain": [
       "<Client: 'tcp://10.148.1.103:59320' processes=0 threads=0, memory=0 B>"
      ]
     },
     "execution_count": 4,
     "metadata": {},
     "output_type": "execute_result"
    }
   ],
   "source": [
    "client"
   ]
  },
  {
   "cell_type": "markdown",
   "metadata": {},
   "source": [
    "---\n",
    "\n",
    "### common parameters"
   ]
  },
  {
   "cell_type": "code",
   "execution_count": 22,
   "metadata": {},
   "outputs": [],
   "source": [
    "T = 30 # movie time period\n",
    "di = 6\n",
    "i0=5"
   ]
  },
  {
   "cell_type": "markdown",
   "metadata": {},
   "source": [
    "---"
   ]
  },
  {
   "cell_type": "code",
   "execution_count": 32,
   "metadata": {},
   "outputs": [],
   "source": [
    "root_path = '/home/datawork-lops-osi/equinox/jetn/'\n",
    "run = 'jet_wp5_ptb_m1_p4'\n",
    "\n",
    "r = pp.Run(root_path+run, open_nc=['ave','surf'])\n",
    "r['surf'] = r['surf'].rename({'time_instant': 'time'})"
   ]
  },
  {
   "cell_type": "code",
   "execution_count": 8,
   "metadata": {},
   "outputs": [
    {
     "data": {
      "text/html": [
       "<pre>&lt;xarray.Dataset&gt;\n",
       "Dimensions:              (axis_nbounds: 2, time: 13391, x_rho: 258, x_u: 257, y_rho: 722, y_v: 721)\n",
       "Coordinates:\n",
       "  * y_rho                (y_rho) float32 -2000.0 2000.0 ... 2878000.0 2882000.0\n",
       "    x_v                  (x_rho) float32 dask.array&lt;chunksize=(258,), meta=np.ndarray&gt;\n",
       "    y_u                  (y_rho) float32 dask.array&lt;chunksize=(722,), meta=np.ndarray&gt;\n",
       "  * x_rho                (x_rho) float32 -2000.0 2000.0 ... 1022000.0 1026000.0\n",
       "  * y_v                  (y_v) float32 0.0 4000.0 8000.0 ... 2876000.0 2880000.0\n",
       "  * x_u                  (x_u) float32 0.0 4000.0 8000.0 ... 1020000.0 1024000.0\n",
       "    s_rho_slice0         float32 -0.01\n",
       "  * time                 (time) float64 dask.array&lt;chunksize=(1,), meta=np.ndarray&gt;\n",
       "    time_instant_bounds  (time, axis_nbounds) datetime64[ns] dask.array&lt;chunksize=(1, 2), meta=np.ndarray&gt;\n",
       "    time_counter         (time) float64 2e+03 2e+03 ... 2.093e+03 2.093e+03\n",
       "    time_counter_bounds  (time, axis_nbounds) datetime64[ns] dask.array&lt;chunksize=(1, 2), meta=np.ndarray&gt;\n",
       "    f_rho                (y_rho) float32 0.0001029676 ... 0.00014968839\n",
       "    f_u                  (y_rho) float32 dask.array&lt;chunksize=(722,), meta=np.ndarray&gt;\n",
       "    f_v                  (y_v) float32 0.000103 0.0001030648 ... 0.000149656\n",
       "Dimensions without coordinates: axis_nbounds\n",
       "Data variables:\n",
       "    ssh                  (time, y_rho, x_rho) float32 dask.array&lt;chunksize=(1, 722, 258), meta=np.ndarray&gt;\n",
       "    T                    (time, y_rho, x_rho) float32 dask.array&lt;chunksize=(1, 722, 258), meta=np.ndarray&gt;\n",
       "    u                    (time, y_rho, x_u) float32 dask.array&lt;chunksize=(1, 722, 257), meta=np.ndarray&gt;\n",
       "    v                    (time, y_v, x_rho) float32 dask.array&lt;chunksize=(1, 721, 258), meta=np.ndarray&gt;\n",
       "    w                    (time, y_rho, x_rho) float32 dask.array&lt;chunksize=(1, 722, 258), meta=np.ndarray&gt;\n",
       "Attributes:\n",
       "    name:         surf\n",
       "    description:  Created by xios\n",
       "    title:        Created by xios\n",
       "    Conventions:  CF-1.6\n",
       "    timeStamp:    2020-Feb-12 14:21:23 GMT\n",
       "    uuid:         051c8111-adec-44e2-b7da-29c730f0f436</pre>"
      ],
      "text/plain": [
       "<xarray.Dataset>\n",
       "Dimensions:              (axis_nbounds: 2, time: 13391, x_rho: 258, x_u: 257, y_rho: 722, y_v: 721)\n",
       "Coordinates:\n",
       "  * y_rho                (y_rho) float32 -2000.0 2000.0 ... 2878000.0 2882000.0\n",
       "    x_v                  (x_rho) float32 dask.array<chunksize=(258,), meta=np.ndarray>\n",
       "    y_u                  (y_rho) float32 dask.array<chunksize=(722,), meta=np.ndarray>\n",
       "  * x_rho                (x_rho) float32 -2000.0 2000.0 ... 1022000.0 1026000.0\n",
       "  * y_v                  (y_v) float32 0.0 4000.0 8000.0 ... 2876000.0 2880000.0\n",
       "  * x_u                  (x_u) float32 0.0 4000.0 8000.0 ... 1020000.0 1024000.0\n",
       "    s_rho_slice0         float32 -0.01\n",
       "  * time                 (time) float64 dask.array<chunksize=(1,), meta=np.ndarray>\n",
       "    time_instant_bounds  (time, axis_nbounds) datetime64[ns] dask.array<chunksize=(1, 2), meta=np.ndarray>\n",
       "    time_counter         (time) float64 2e+03 2e+03 ... 2.093e+03 2.093e+03\n",
       "    time_counter_bounds  (time, axis_nbounds) datetime64[ns] dask.array<chunksize=(1, 2), meta=np.ndarray>\n",
       "    f_rho                (y_rho) float32 0.0001029676 ... 0.00014968839\n",
       "    f_u                  (y_rho) float32 dask.array<chunksize=(722,), meta=np.ndarray>\n",
       "    f_v                  (y_v) float32 0.000103 0.0001030648 ... 0.000149656\n",
       "Dimensions without coordinates: axis_nbounds\n",
       "Data variables:\n",
       "    ssh                  (time, y_rho, x_rho) float32 dask.array<chunksize=(1, 722, 258), meta=np.ndarray>\n",
       "    T                    (time, y_rho, x_rho) float32 dask.array<chunksize=(1, 722, 258), meta=np.ndarray>\n",
       "    u                    (time, y_rho, x_u) float32 dask.array<chunksize=(1, 722, 257), meta=np.ndarray>\n",
       "    v                    (time, y_v, x_rho) float32 dask.array<chunksize=(1, 721, 258), meta=np.ndarray>\n",
       "    w                    (time, y_rho, x_rho) float32 dask.array<chunksize=(1, 722, 258), meta=np.ndarray>\n",
       "Attributes:\n",
       "    name:         surf\n",
       "    description:  Created by xios\n",
       "    title:        Created by xios\n",
       "    Conventions:  CF-1.6\n",
       "    timeStamp:    2020-Feb-12 14:21:23 GMT\n",
       "    uuid:         051c8111-adec-44e2-b7da-29c730f0f436"
      ]
     },
     "execution_count": 8,
     "metadata": {},
     "output_type": "execute_result"
    }
   ],
   "source": [
    "r['surf']"
   ]
  },
  {
   "cell_type": "markdown",
   "metadata": {},
   "source": [
    "--- \n",
    "### dev & utils"
   ]
  },
  {
   "cell_type": "code",
   "execution_count": 9,
   "metadata": {},
   "outputs": [],
   "source": [
    "ds = r['surf'].isel(time=slice(0,T*24*6,di))\n",
    "v = 'ssh'\n",
    "vmin, vmax = -.6, .6"
   ]
  },
  {
   "cell_type": "code",
   "execution_count": 11,
   "metadata": {},
   "outputs": [],
   "source": [
    "_ds = ds[v].isel(time=int(24*5*di/6))\n",
    "_ds = _ds.assign_coords(x=_ds.x_rho/1e3, y=ds.y_rho/1e3)\n",
    "_ds = _ds.persist()"
   ]
  },
  {
   "cell_type": "code",
   "execution_count": 12,
   "metadata": {},
   "outputs": [
    {
     "data": {
      "text/plain": [
       "Text(0.5, 1.0, 'day = 2005 / h = 0.17 hour ')"
      ]
     },
     "execution_count": 12,
     "metadata": {},
     "output_type": "execute_result"
    },
    {
     "data": {
      "image/png": "[encoded data removed]",
      "text/plain": [
       "<Figure size 360x360 with 2 Axes>"
      ]
     },
     "metadata": {
      "needs_background": "light"
     },
     "output_type": "display_data"
    }
   ],
   "source": [
    "#plt_kw = {'cmap': 'RdGy_r', 'figsize': (5,5), 'subplot_kws':{'aspect': 'equal'}}\n",
    "\n",
    "plt_kw = {'cmap': 'RdGy_r', 'extend':'both'}\n",
    "\n",
    "figsize = (5,5)\n",
    "\n",
    "d = int(_ds.time)\n",
    "h = (_ds.time-d)*24\n",
    "title = 'day = %d / h = %.2f hour '%(d, h)\n",
    "\n",
    "xlim = (_ds.x.min(),_ds.x.max())\n",
    "ylim = (_ds.y.min(),_ds.y.max())\n",
    "\n",
    "fig = plt.figure(figsize=figsize)\n",
    "ax = fig.add_subplot(1,2,1)\n",
    "_ds.plot(x='x',y='y', \n",
    "         vmin=vmin, vmax=vmax, ax=ax, **plt_kw)\n",
    "ax.axis('equal')\n",
    "ax.set(xlim=xlim, ylim=ylim)\n",
    "ax.set_title(title)"
   ]
  },
  {
   "cell_type": "code",
   "execution_count": 24,
   "metadata": {},
   "outputs": [
    {
     "name": "stdout",
     "output_type": "stream",
     "text": [
      "Figures directory: /home1/scratch/aponte/figs/\n"
     ]
    }
   ],
   "source": [
    "# could delete all figures beforehand\n",
    "figdir = '/home1/scratch/aponte/figs/'\n",
    "print('Figures directory: '+figdir)\n",
    "\n",
    "def genfig(i, ds, v, overwrite=True, figsize=(4,5), **kwargs):\n",
    "    \n",
    "    figname = figdir+'%s_t%05d' %(v, i)+'.png'\n",
    "            \n",
    "    plt_kw = {'cmap': 'RdGy_r', 'extend':'both'}\n",
    "    plt_kw.update(kwargs)\n",
    "    \n",
    "    _ds = ds[v].assign_coords(x=ds.x_rho/1e3, y=ds.y_rho/1e3)\n",
    "    xlim = (_ds.x.min(),_ds.x.max())\n",
    "    ylim = (_ds.y.min(),_ds.y.max())    \n",
    "    \n",
    "    if not os.path.isfile(figname) or overwrite:\n",
    "        #\n",
    "        MPL_LOCK = threading.Lock()\n",
    "        with MPL_LOCK:\n",
    "            plt.switch_backend('agg')    \n",
    "            #\n",
    "            d = int(_ds.time)\n",
    "            h = (_ds.time-d)*24\n",
    "            title = 'day = %d / h = %.2f hour '%(d, h)\n",
    "            #\n",
    "            fig = plt.figure(figsize=figsize)\n",
    "            ax = fig.add_subplot(1,1,1)\n",
    "            _ds.plot(x='x',y='y', ax=ax, **plt_kw)\n",
    "            #ax.axis('equal')\n",
    "            ax.set_aspect('equal', 'box')\n",
    "            ax.set(xlim=xlim, ylim=ylim)\n",
    "            ax.set_title(title)\n",
    "            fig.savefig(figname, bbox_inches = 'tight')\n",
    "            #plt.close(fig)\n",
    "            plt.close()\n",
    "            #\n",
    "            m = 1.\n",
    "    else:\n",
    "        m = -1.\n",
    "    return m"
   ]
  },
  {
   "cell_type": "code",
   "execution_count": 25,
   "metadata": {},
   "outputs": [],
   "source": [
    "def spawn_computations(ds, plt_kw, Nt=None):\n",
    "    if Nt is None:\n",
    "        Nt = ds.time.size\n",
    "    rg = range(0,Nt)\n",
    "    II = np.array_split(rg,len(rg)/(28*2))\n",
    "    print('%d loops to be done'%len(II))\n",
    "    for I in II:\n",
    "        print('  %d - %d'%(I[0],I[-1]))\n",
    "        values = [delayed(genfig)(i, ds.isel(time=i), v, **plt_kw) for i in I]\n",
    "        futures = client.compute(values)\n",
    "        results = client.gather(futures)"
   ]
  },
  {
   "cell_type": "markdown",
   "metadata": {},
   "source": [
    "---\n",
    "\n",
    "### generate figures"
   ]
  },
  {
   "cell_type": "code",
   "execution_count": 34,
   "metadata": {},
   "outputs": [],
   "source": [
    "v = 'ssh'\n",
    "ds = r['surf'][v].isel(time=slice(i0,T*24*6,di)).to_dataset()\n",
    "plt_kw = {'vmin': -.6, 'vmax': .6}"
   ]
  },
  {
   "cell_type": "code",
   "execution_count": 35,
   "metadata": {},
   "outputs": [
    {
     "name": "stdout",
     "output_type": "stream",
     "text": [
      "12 loops to be done\n",
      "  0 - 59\n",
      "  60 - 119\n",
      "  120 - 179\n",
      "  180 - 239\n",
      "  240 - 299\n",
      "  300 - 359\n",
      "  360 - 419\n",
      "  420 - 479\n",
      "  480 - 539\n",
      "  540 - 599\n",
      "  600 - 659\n",
      "  660 - 719\n"
     ]
    }
   ],
   "source": [
    "spawn_computations(ds, plt_kw)"
   ]
  },
  {
   "cell_type": "markdown",
   "metadata": {},
   "source": [
    "---\n",
    "\n",
    "### two simulations movies"
   ]
  },
  {
   "cell_type": "code",
   "execution_count": 23,
   "metadata": {},
   "outputs": [
    {
     "name": "stdout",
     "output_type": "stream",
     "text": [
      "jet_wp5_ptb_m1_p2 [0. 0. 0. 0. 0. 0. 0. 0. 0. 0.]\n",
      "jet_wp5_ptb_m1_p4 [0.00e+00 1.46e-05 0.00e+00 0.00e+00 0.00e+00 0.00e+00 0.00e+00 0.00e+00\n",
      " 0.00e+00 0.00e+00]\n"
     ]
    },
    {
     "data": {
      "text/plain": [
       "[Run: /home/datawork-lops-osi/equinox/jetn/jet_wp5_ptb_m1_p2\n",
       "   datasets suffixes: grid / ave / surf,\n",
       " Run: /home/datawork-lops-osi/equinox/jetn/jet_wp5_ptb_m1_p4\n",
       "   datasets suffixes: grid / ave / surf]"
      ]
     },
     "execution_count": 23,
     "metadata": {},
     "output_type": "execute_result"
    }
   ],
   "source": [
    "runs = ['jet_wp5_ptb_m1_p2', 'jet_wp5_ptb_m1_p4']\n",
    "\n",
    "R = []\n",
    "for r in runs:\n",
    "    _r = pp.Run(root_path+r, open_nc=['ave', 'surf'])\n",
    "    _r['surf'] = _r['surf'].rename({'time_instant': 'time'})\n",
    "    R.append(_r)\n",
    "    print(r, _r['itideptb_full_Acos_mode'])\n",
    "R"
   ]
  },
  {
   "cell_type": "code",
   "execution_count": 26,
   "metadata": {},
   "outputs": [],
   "source": [
    "v = 'ssh'\n",
    "ds = (R[1]['surf'][v].isel(time=slice(i0,T*24*6,di))\n",
    "      -R[0]['surf'][v].isel(time=slice(i0,T*24*6,di))\n",
    "      ).to_dataset()\n",
    "plt_kw = {'vmin': -.05, 'vmax': .05}"
   ]
  },
  {
   "cell_type": "code",
   "execution_count": 27,
   "metadata": {},
   "outputs": [
    {
     "data": {
      "text/plain": [
       "<matplotlib.collections.QuadMesh at 0x2aab30d52588>"
      ]
     },
     "execution_count": 27,
     "metadata": {},
     "output_type": "execute_result"
    },
    {
     "data": {
      "image/png": "[encoded data removed]",
      "text/plain": [
       "<Figure size 432x288 with 2 Axes>"
      ]
     },
     "metadata": {
      "needs_background": "light"
     },
     "output_type": "display_data"
    }
   ],
   "source": [
    "ds.ssh.isel(time=3*24*5).plot()"
   ]
  },
  {
   "cell_type": "code",
   "execution_count": 28,
   "metadata": {},
   "outputs": [
    {
     "name": "stdout",
     "output_type": "stream",
     "text": [
      "12 loops to be done\n",
      "  0 - 59\n",
      "  60 - 119\n",
      "  120 - 179\n",
      "  180 - 239\n",
      "  240 - 299\n",
      "  300 - 359\n",
      "  360 - 419\n",
      "  420 - 479\n",
      "  480 - 539\n",
      "  540 - 599\n",
      "  600 - 659\n",
      "  660 - 719\n"
     ]
    }
   ],
   "source": [
    "spawn_computations(ds, plt_kw)"
   ]
  },
  {
   "cell_type": "markdown",
   "metadata": {},
   "source": [
    "---"
   ]
  },
  {
   "cell_type": "code",
   "execution_count": 29,
   "metadata": {},
   "outputs": [
    {
     "name": "stdout",
     "output_type": "stream",
     "text": [
      "jet_wp5_ptb_m1_p0 [ 0.00e+00 -1.46e-05  0.00e+00  0.00e+00  0.00e+00  0.00e+00  0.00e+00\n",
      "  0.00e+00  0.00e+00  0.00e+00]\n",
      "jet_wp5_ptb_m1_p2 [0. 0. 0. 0. 0. 0. 0. 0. 0. 0.]\n",
      "jet_wp5_ptb_m1_p4 [0.00e+00 1.46e-05 0.00e+00 0.00e+00 0.00e+00 0.00e+00 0.00e+00 0.00e+00\n",
      " 0.00e+00 0.00e+00]\n"
     ]
    },
    {
     "data": {
      "text/plain": [
       "[Run: /home/datawork-lops-osi/equinox/jetn/jet_wp5_ptb_m1_p0\n",
       "   datasets suffixes: grid / ave / surf,\n",
       " Run: /home/datawork-lops-osi/equinox/jetn/jet_wp5_ptb_m1_p2\n",
       "   datasets suffixes: grid / ave / surf,\n",
       " Run: /home/datawork-lops-osi/equinox/jetn/jet_wp5_ptb_m1_p4\n",
       "   datasets suffixes: grid / ave / surf]"
      ]
     },
     "execution_count": 29,
     "metadata": {},
     "output_type": "execute_result"
    }
   ],
   "source": [
    "runs = ['jet_wp5_ptb_m1_p0', 'jet_wp5_ptb_m1_p2', 'jet_wp5_ptb_m1_p4']\n",
    "\n",
    "R = []\n",
    "for r in runs:\n",
    "    _r = pp.Run(root_path+r, open_nc=['ave', 'surf'])\n",
    "    _r['surf'] = _r['surf'].rename({'time_instant': 'time'})\n",
    "    R.append(_r)\n",
    "    print(r, _r['itideptb_full_Acos_mode'])\n",
    "R"
   ]
  },
  {
   "cell_type": "code",
   "execution_count": 30,
   "metadata": {},
   "outputs": [],
   "source": [
    "v = 'ssh'\n",
    "ds = ( R[2]['surf'][v].isel(time=slice(i0,T*24*6,di))\n",
    "      +R[0]['surf'][v].isel(time=slice(i0,T*24*6,di))\n",
    "      -2*R[1]['surf'][v].isel(time=slice(i0,T*24*6,di))\n",
    "      ).to_dataset()\n",
    "plt_kw = {'vmin': -.01, 'vmax': .01}"
   ]
  },
  {
   "cell_type": "code",
   "execution_count": 31,
   "metadata": {},
   "outputs": [
    {
     "name": "stdout",
     "output_type": "stream",
     "text": [
      "12 loops to be done\n",
      "  0 - 59\n",
      "  60 - 119\n",
      "  120 - 179\n",
      "  180 - 239\n",
      "  240 - 299\n",
      "  300 - 359\n",
      "  360 - 419\n",
      "  420 - 479\n",
      "  480 - 539\n",
      "  540 - 599\n",
      "  600 - 659\n",
      "  660 - 719\n"
     ]
    }
   ],
   "source": [
    "spawn_computations(ds, plt_kw)"
   ]
  },
  {
   "cell_type": "markdown",
   "metadata": {},
   "source": [
    "---\n",
    "\n",
    "### two simulations, two axes movies"
   ]
  },
  {
   "cell_type": "code",
   "execution_count": null,
   "metadata": {},
   "outputs": [],
   "source": []
  },
  {
   "cell_type": "code",
   "execution_count": null,
   "metadata": {},
   "outputs": [],
   "source": []
  },
  {
   "cell_type": "markdown",
   "metadata": {},
   "source": [
    "---"
   ]
  },
  {
   "cell_type": "code",
   "execution_count": null,
   "metadata": {},
   "outputs": [],
   "source": [
    "cluster.close()"
   ]
  },
  {
   "cell_type": "code",
   "execution_count": null,
   "metadata": {},
   "outputs": [],
   "source": []
  }
 ],
 "metadata": {
  "kernelspec": {
   "display_name": "Python 3",
   "language": "python",
   "name": "python3"
  },
  "language_info": {
   "codemirror_mode": {
    "name": "ipython",
    "version": 3
   },
   "file_extension": ".py",
   "mimetype": "text/x-python",
   "name": "python",
   "nbconvert_exporter": "python",
   "pygments_lexer": "ipython3",
   "version": "3.7.3"
  }
 },
 "nbformat": 4,
 "nbformat_minor": 4
}
