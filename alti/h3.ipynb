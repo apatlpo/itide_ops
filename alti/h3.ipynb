{
 "cells": [
  {
   "cell_type": "code",
   "execution_count": 66,
   "metadata": {},
   "outputs": [],
   "source": [
    "import pandas as pd\n",
    "\n",
    "import matplotlib.pyplot as plt\n",
    "import cartopy.crs as ccrs\n",
    "import cartopy.feature as cfeature\n",
    "from shapely.geometry.polygon import Polygon\n",
    "\n",
    "from h3 import h3"
   ]
  },
  {
   "cell_type": "code",
   "execution_count": null,
   "metadata": {},
   "outputs": [],
   "source": []
  },
  {
   "cell_type": "code",
   "execution_count": 57,
   "metadata": {},
   "outputs": [
    {
     "data": {
      "text/plain": [
       "'822a87fffffffff'"
      ]
     },
     "execution_count": 57,
     "metadata": {},
     "output_type": "execute_result"
    }
   ],
   "source": [
    "hex_id = h3.geo_to_h3(40, -80, 2) # lat, lng, hex resolution                                                                                                        \n",
    "hex_id"
   ]
  },
  {
   "cell_type": "code",
   "execution_count": 58,
   "metadata": {},
   "outputs": [
    {
     "data": {
      "text/plain": [
       "[39.61149810217661, -80.20788131368657]"
      ]
     },
     "execution_count": 58,
     "metadata": {},
     "output_type": "execute_result"
    }
   ],
   "source": [
    "hex_center_coordinates = h3.h3_to_geo(hex_id) # array of [lat, lng]                                                                                                                  \n",
    "hex_center_coordinates\n"
   ]
  },
  {
   "cell_type": "code",
   "execution_count": 61,
   "metadata": {},
   "outputs": [
    {
     "data": {
      "text/plain": [
       "[[-79.73406932047651, 41.163833989516235],\n",
       " [-81.86750279548116, 40.67424641607381],\n",
       " [-82.26705878743626, 39.12545066120517],\n",
       " [-80.65177495480032, 38.0892982161225],\n",
       " [-78.61941821988545, 38.540002057010945],\n",
       " [-78.10427143231793, 40.06406043200122],\n",
       " [-79.73406932047651, 41.163833989516235]]"
      ]
     },
     "execution_count": 61,
     "metadata": {},
     "output_type": "execute_result"
    }
   ],
   "source": [
    "hex_boundary = h3.h3_to_geo_boundary(hex_id) # array of arrays of [lat, lng]                                                                                                                                                                                                                                                         \n",
    "hex_boundary = hex_boundary+[hex_boundary[0]]\n",
    "hex_boundary = [[h[1], h[0]] for h in hex_boundary]\n",
    "hex_boundary\n"
   ]
  },
  {
   "cell_type": "code",
   "execution_count": null,
   "metadata": {},
   "outputs": [],
   "source": []
  },
  {
   "cell_type": "code",
   "execution_count": null,
   "metadata": {},
   "outputs": [],
   "source": []
  },
  {
   "cell_type": "code",
   "execution_count": 62,
   "metadata": {},
   "outputs": [
    {
     "data": {
      "image/png": "[encoded data removed]",
      "text/plain": [
       "<Figure size 360x216 with 1 Axes>"
      ]
     },
     "metadata": {
      "needs_background": "light"
     },
     "output_type": "display_data"
    }
   ],
   "source": [
    "\n",
    "# make the map\n",
    "bounds = [-122., -72., 25., 50.]\n",
    "\n",
    "plt.figure(figsize=(5, 3))\n",
    "\n",
    "ax = plt.axes(projection=ccrs.LambertConformal())\n",
    "ax.set_extent(bounds, crs=ccrs.PlateCarree())\n",
    "ax.add_feature(cfeature.COASTLINE.with_scale('110m'), linewidth=0.75)\n",
    "\n",
    "pgon = Polygon(hex_boundary)\n",
    "ax.add_geometries([pgon], crs=ccrs.PlateCarree(), facecolor='0.5', \n",
    "                  edgecolor=None, alpha=0.8)\n",
    "\n",
    "plt.show()"
   ]
  },
  {
   "cell_type": "code",
   "execution_count": null,
   "metadata": {},
   "outputs": [],
   "source": []
  },
  {
   "cell_type": "code",
   "execution_count": 72,
   "metadata": {},
   "outputs": [],
   "source": [
    "hres = 8\n",
    "geoJson = {'type': 'Polygon',\n",
    " 'coordinates': [[[37.813318999983238, -122.4089866999972145], \n",
    "                  [ 37.7866302000007224, -122.3805436999997056 ], \n",
    "                  [37.7198061999978478, -122.3544736999993603], \n",
    "                  [ 37.7076131999975672, -122.5123436999983966 ], \n",
    "                  [37.7835871999971715, -122.5247187000021967],  \n",
    "                  [37.8151571999998453, -122.4798767000009008]]] }\n",
    "hex_ids = list(h3.polyfill(geoJson, hres))\n"
   ]
  },
  {
   "cell_type": "code",
   "execution_count": 89,
   "metadata": {},
   "outputs": [
    {
     "data": {
      "text/html": [
       "<div>\n",
       "<style scoped>\n",
       "    .dataframe tbody tr th:only-of-type {\n",
       "        vertical-align: middle;\n",
       "    }\n",
       "\n",
       "    .dataframe tbody tr th {\n",
       "        vertical-align: top;\n",
       "    }\n",
       "\n",
       "    .dataframe thead th {\n",
       "        text-align: right;\n",
       "    }\n",
       "</style>\n",
       "<table border=\"1\" class=\"dataframe\">\n",
       "  <thead>\n",
       "    <tr style=\"text-align: right;\">\n",
       "      <th></th>\n",
       "      <th>hex_id</th>\n",
       "      <th>lat</th>\n",
       "      <th>lon</th>\n",
       "    </tr>\n",
       "  </thead>\n",
       "  <tbody>\n",
       "    <tr>\n",
       "      <th>0</th>\n",
       "      <td>882830874bfffff</td>\n",
       "      <td>37.789671</td>\n",
       "      <td>-122.478930</td>\n",
       "    </tr>\n",
       "    <tr>\n",
       "      <th>1</th>\n",
       "      <td>8828308239fffff</td>\n",
       "      <td>37.746692</td>\n",
       "      <td>-122.371035</td>\n",
       "    </tr>\n",
       "    <tr>\n",
       "      <th>2</th>\n",
       "      <td>8828309511fffff</td>\n",
       "      <td>37.725142</td>\n",
       "      <td>-122.464555</td>\n",
       "    </tr>\n",
       "    <tr>\n",
       "      <th>3</th>\n",
       "      <td>8828308219fffff</td>\n",
       "      <td>37.733672</td>\n",
       "      <td>-122.394853</td>\n",
       "    </tr>\n",
       "    <tr>\n",
       "      <th>4</th>\n",
       "      <td>88283095edfffff</td>\n",
       "      <td>37.741617</td>\n",
       "      <td>-122.458515</td>\n",
       "    </tr>\n",
       "  </tbody>\n",
       "</table>\n",
       "</div>"
      ],
      "text/plain": [
       "            hex_id        lat         lon\n",
       "0  882830874bfffff  37.789671 -122.478930\n",
       "1  8828308239fffff  37.746692 -122.371035\n",
       "2  8828309511fffff  37.725142 -122.464555\n",
       "3  8828308219fffff  37.733672 -122.394853\n",
       "4  88283095edfffff  37.741617 -122.458515"
      ]
     },
     "execution_count": 89,
     "metadata": {},
     "output_type": "execute_result"
    }
   ],
   "source": [
    "#hex_ids\n",
    "#pd.DataFrame([hex_ids, [h3.h3_to_geo(h)[0] for h in hex_ids]], columns=['id', 'lat'])\n",
    "df = pd.DataFrame({'hex_id': hex_ids, \n",
    "                   'lat': [h3.h3_to_geo(h)[0] for h in hex_ids],\n",
    "                   'lon': [h3.h3_to_geo(h)[1] for h in hex_ids]})\n",
    "df.head()"
   ]
  },
  {
   "cell_type": "code",
   "execution_count": 104,
   "metadata": {},
   "outputs": [],
   "source": [
    "import matplotlib as mpl\n",
    "import matplotlib.cm as cm\n",
    "\n",
    "def id_to_bdy(hex_id):\n",
    "    hex_boundary = h3.h3_to_geo_boundary(hex_id) # array of arrays of [lat, lng]                                                                                                                                                                                                                                                         \n",
    "    hex_boundary = hex_boundary+[hex_boundary[0]]\n",
    "    return [[h[1], h[0]] for h in hex_boundary]\n",
    "\n",
    "def plot_h3(df):\n",
    "    \n",
    "    # will be options\n",
    "    bounds = [-122.6, -122.3, 37.7, 37.8]\n",
    "    cmap = cm.hot\n",
    "\n",
    "    ckey = 'lat'\n",
    "    vmin = df[ckey].min()\n",
    "    vmax = df[ckey].max()\n",
    "    #\n",
    "    \n",
    "    norm = mpl.colors.Normalize(vmin=vmin, vmax=vmax)\n",
    "    m = cm.ScalarMappable(norm=norm, cmap=cmap)\n",
    "\n",
    "    plt.figure(figsize=(5, 3))\n",
    "\n",
    "    ax = plt.axes(projection=ccrs.LambertConformal())\n",
    "    ax.set_extent(bounds, crs=ccrs.PlateCarree())\n",
    "    ax.add_feature(cfeature.COASTLINE.with_scale('110m'), linewidth=0.75)\n",
    "\n",
    "    for index, row in df.iterrows():\n",
    "        pgon = Polygon(id_to_bdy(row['hex_id']))\n",
    "        ax.add_geometries([pgon], crs=ccrs.PlateCarree(),\n",
    "                          facecolor=m.to_rgba(row[ckey]),\n",
    "                          edgecolor=None, alpha=0.8)"
   ]
  },
  {
   "cell_type": "code",
   "execution_count": 105,
   "metadata": {},
   "outputs": [
    {
     "data": {
      "image/png": "[encoded data removed]",
      "text/plain": [
       "<Figure size 360x216 with 1 Axes>"
      ]
     },
     "metadata": {
      "needs_background": "light"
     },
     "output_type": "display_data"
    }
   ],
   "source": [
    "plot_h3(df)"
   ]
  },
  {
   "cell_type": "code",
   "execution_count": null,
   "metadata": {},
   "outputs": [],
   "source": []
  }
 ],
 "metadata": {
  "kernelspec": {
   "display_name": "Python 3",
   "language": "python",
   "name": "python3"
  },
  "language_info": {
   "codemirror_mode": {
    "name": "ipython",
    "version": 3
   },
   "file_extension": ".py",
   "mimetype": "text/x-python",
   "name": "python",
   "nbconvert_exporter": "python",
   "pygments_lexer": "ipython3",
   "version": "3.6.7"
  }
 },
 "nbformat": 4,
 "nbformat_minor": 4
}
