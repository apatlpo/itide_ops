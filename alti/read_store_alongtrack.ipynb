{
 "cells": [
  {
   "cell_type": "markdown",
   "metadata": {},
   "source": [
    "# load altimetric data and store it as zarr"
   ]
  },
  {
   "cell_type": "code",
   "execution_count": 1,
   "metadata": {},
   "outputs": [],
   "source": [
    "import os\n",
    "from glob import glob\n",
    "import pandas as pd\n",
    "import xarray as xr\n"
   ]
  },
  {
   "cell_type": "code",
   "execution_count": 2,
   "metadata": {},
   "outputs": [
    {
     "data": {
      "text/html": [
       "<table style=\"border: 2px solid white;\">\n",
       "<tr>\n",
       "<td style=\"vertical-align: top; border: 0px solid white\">\n",
       "<h3 style=\"text-align: left;\">Client</h3>\n",
       "<ul style=\"text-align: left; list-style: none; margin: 0; padding: 0;\">\n",
       "  <li><b>Scheduler: </b>tcp://127.0.0.1:57330</li>\n",
       "  <li><b>Dashboard: </b><a href='http://127.0.0.1:8787/status' target='_blank'>http://127.0.0.1:8787/status</a>\n",
       "</ul>\n",
       "</td>\n",
       "<td style=\"vertical-align: top; border: 0px solid white\">\n",
       "<h3 style=\"text-align: left;\">Cluster</h3>\n",
       "<ul style=\"text-align: left; list-style:none; margin: 0; padding: 0;\">\n",
       "  <li><b>Workers: </b>4</li>\n",
       "  <li><b>Cores: </b>4</li>\n",
       "  <li><b>Memory: </b>17.18 GB</li>\n",
       "</ul>\n",
       "</td>\n",
       "</tr>\n",
       "</table>"
      ],
      "text/plain": [
       "<Client: 'tcp://127.0.0.1:57330' processes=4 threads=4, memory=17.18 GB>"
      ]
     },
     "execution_count": 2,
     "metadata": {},
     "output_type": "execute_result"
    }
   ],
   "source": [
    "from dask.distributed import Client\n",
    "client = Client()  # set up local cluster on your laptop\n",
    "client"
   ]
  },
  {
   "cell_type": "code",
   "execution_count": 3,
   "metadata": {},
   "outputs": [
    {
     "name": "stdout",
     "output_type": "stream",
     "text": [
      "['al', 'alg', 'c2', 'e1', 'e1g', 'e2', 'en', 'enn', 'g2', 'h2', 'h2g', 'j1', 'j1g', 'j1n', 'j2', 'j2g', 'j2n', 'j3', 's3a', 's3b', 'tp', 'tpn']\n"
     ]
    }
   ],
   "source": [
    "root_dir = '/Users/aponte/data/alti/'\n",
    "out_dir = '/Users/aponte/data/alti/zarr/'\n",
    "m_dir = sorted(glob(root_dir+'dataset*'))\n",
    "missions = [m.split('-')[-3] for m in m_dir]\n",
    "print(missions)"
   ]
  },
  {
   "cell_type": "code",
   "execution_count": 4,
   "metadata": {},
   "outputs": [],
   "source": [
    "# preprocessing is required for jason3 which has lwe and mdt variables only in the first half of the dataset\n",
    "def pprocess(ds):\n",
    "    variables = ['lwe', 'mdt']\n",
    "    for v in variables:\n",
    "        if v not in ds:\n",
    "            ds[v] = ds.ocean_tide.where(ds.ocean_tide>1e10, drop=False)\n",
    "    return ds\n",
    "\n",
    "def load_data(path):\n",
    "    _files = glob(path+'/**/*.nc', recursive=True)\n",
    "    ds = xr.open_mfdataset(_files, combine='nested', \n",
    "                           concat_dim='time', parallel=True,\n",
    "                           preprocess = pprocess)\n",
    "    return ds.chunk({'time': 1e6})"
   ]
  },
  {
   "cell_type": "code",
   "execution_count": 5,
   "metadata": {},
   "outputs": [],
   "source": [
    "mdir = m_dir[0]\n",
    "ds = load_data(mdir)"
   ]
  },
  {
   "cell_type": "code",
   "execution_count": 6,
   "metadata": {},
   "outputs": [
    {
     "name": "stdout",
     "output_type": "stream",
     "text": [
      "1.923045992\n"
     ]
    }
   ],
   "source": [
    "print(ds.nbytes/1e9)"
   ]
  },
  {
   "cell_type": "code",
   "execution_count": 7,
   "metadata": {},
   "outputs": [
    {
     "data": {
      "text/plain": [
       "<xarray.Dataset>\n",
       "Dimensions:         (time: 34340107)\n",
       "Coordinates:\n",
       "  * time            (time) datetime64[ns] 2013-10-22T23:42:07.635517696 ... 2015-03-05T23:52:06.335301632\n",
       "    longitude       (time) float64 dask.array<chunksize=(1000000,), meta=np.ndarray>\n",
       "    latitude        (time) float64 dask.array<chunksize=(1000000,), meta=np.ndarray>\n",
       "Data variables:\n",
       "    cycle           (time) int16 dask.array<chunksize=(1000000,), meta=np.ndarray>\n",
       "    track           (time) int16 dask.array<chunksize=(1000000,), meta=np.ndarray>\n",
       "    dac             (time) float32 dask.array<chunksize=(1000000,), meta=np.ndarray>\n",
       "    lwe             (time) float32 dask.array<chunksize=(1000000,), meta=np.ndarray>\n",
       "    mdt             (time) float32 dask.array<chunksize=(1000000,), meta=np.ndarray>\n",
       "    ocean_tide      (time) float64 dask.array<chunksize=(1000000,), meta=np.ndarray>\n",
       "    sla_filtered    (time) float32 dask.array<chunksize=(1000000,), meta=np.ndarray>\n",
       "    sla_unfiltered  (time) float32 dask.array<chunksize=(1000000,), meta=np.ndarray>\n",
       "Attributes:\n",
       "    Conventions:                     CF-1.6\n",
       "    Metadata_Conventions:            Unidata Dataset Discovery v1.0\n",
       "    cdm_data_type:                   Swath\n",
       "    comment:                         Sea surface height measured by altimeter...\n",
       "    contact:                         servicedesk.cmems@mercator-ocean.eu\n",
       "    creator_email:                   servicedesk.cmems@mercator-ocean.eu\n",
       "    creator_name:                    CMEMS - Sea Level Thematic Assembly Center\n",
       "    creator_url:                     http://marine.copernicus.eu\n",
       "    date_created:                    2019-02-20T19:25:25Z\n",
       "    date_issued:                     2019-02-20T19:25:25Z\n",
       "    date_modified:                   2019-02-20T19:25:25Z\n",
       "    geospatial_lat_max:              81.502808\n",
       "    geospatial_lat_min:              -65.230592\n",
       "    geospatial_lat_resolution:       0.054841500000001986\n",
       "    geospatial_lat_units:            degrees_north\n",
       "    geospatial_lon_max:              359.97193599999997\n",
       "    geospatial_lon_min:              0.0065569999999999995\n",
       "    geospatial_lon_resolution:       0.016267999999982408\n",
       "    geospatial_lon_units:            degrees_east\n",
       "    geospatial_vertical_max:         0.0\n",
       "    geospatial_vertical_min:         0.0\n",
       "    geospatial_vertical_positive:    down\n",
       "    geospatial_vertical_resolution:  point\n",
       "    geospatial_vertical_units:       m\n",
       "    history:                         2019-02-20T19:25:25Z: Creation\n",
       "    institution:                     CLS, CNES\n",
       "    keywords:                        Oceans > Ocean Topography > Sea Surface ...\n",
       "    keywords_vocabulary:             NetCDF COARDS Climate and Forecast Stand...\n",
       "    license:                         http://marine.copernicus.eu/web/27-servi...\n",
       "    platform:                        Altika\n",
       "    processing_level:                L3\n",
       "    product_version:                 2019\n",
       "    project:                         COPERNICUS MARINE ENVIRONMENT MONITORING...\n",
       "    references:                      http://marine.copernicus.eu\n",
       "    software_version:                6.2_DUACS_DT2018_baseline\n",
       "    source:                          Altika measurements\n",
       "    ssalto_duacs_comment:            The reference mission used for the altim...\n",
       "    standard_name_vocabulary:        NetCDF Climate and Forecast (CF) Metadat...\n",
       "    summary:                         SSALTO/DUACS Delayed-Time Level-3 sea su...\n",
       "    time_coverage_duration:          P24H7M47.371252S\n",
       "    time_coverage_end:               2013-10-23T23:49:55Z\n",
       "    time_coverage_resolution:        P1S\n",
       "    time_coverage_start:             2013-10-22T23:42:07Z\n",
       "    title:                           DT Altika Global Ocean Along track SSALT..."
      ]
     },
     "execution_count": 7,
     "metadata": {},
     "output_type": "execute_result"
    }
   ],
   "source": [
    "ds"
   ]
  },
  {
   "cell_type": "code",
   "execution_count": null,
   "metadata": {},
   "outputs": [],
   "source": [
    "overwrite=False\n",
    "\n",
    "for mdir, m in zip(m_dir,missions):\n",
    "    file_out = out_dir+'/'+m\n",
    "    if not os.path.isdir(file_out) or overwrite:\n",
    "        ds = load_data(mdir)\n",
    "        ds.to_zarr(file_out, mode='w')\n",
    "    print(m+' done')"
   ]
  },
  {
   "cell_type": "code",
   "execution_count": null,
   "metadata": {},
   "outputs": [],
   "source": [
    "# upload command:\n"
   ]
  },
  {
   "cell_type": "markdown",
   "metadata": {},
   "source": [
    "## look at issue with j3"
   ]
  },
  {
   "cell_type": "code",
   "execution_count": 12,
   "metadata": {},
   "outputs": [
    {
     "data": {
      "text/plain": [
       "'/Users/aponte/data/alti/dataset-duacs-rep-global-j3-phy-l3'"
      ]
     },
     "execution_count": 12,
     "metadata": {},
     "output_type": "execute_result"
    }
   ],
   "source": [
    "mdir"
   ]
  },
  {
   "cell_type": "code",
   "execution_count": 50,
   "metadata": {},
   "outputs": [
    {
     "name": "stdout",
     "output_type": "stream",
     "text": [
      "962\n"
     ]
    },
    {
     "name": "stderr",
     "output_type": "stream",
     "text": [
      "distributed.utils_perf - WARNING - full garbage collections took 10% CPU time recently (threshold: 10%)\n",
      "distributed.utils_perf - WARNING - full garbage collections took 10% CPU time recently (threshold: 10%)\n"
     ]
    },
    {
     "data": {
      "text/plain": [
       "<xarray.Dataset>\n",
       "Dimensions:         (time: 20989090)\n",
       "Coordinates:\n",
       "  * time            (time) datetime64[ns] 2017-08-20T23:50:44.270703872 ... 2018-12-23T23:49:36.260031744\n",
       "    longitude       (time) float64 dask.array<chunksize=(47519,), meta=np.ndarray>\n",
       "    latitude        (time) float64 dask.array<chunksize=(47519,), meta=np.ndarray>\n",
       "Data variables:\n",
       "    cycle           (time) int16 dask.array<chunksize=(47519,), meta=np.ndarray>\n",
       "    track           (time) int16 dask.array<chunksize=(47519,), meta=np.ndarray>\n",
       "    dac             (time) float32 dask.array<chunksize=(47519,), meta=np.ndarray>\n",
       "    lwe             (time) float64 dask.array<chunksize=(47519,), meta=np.ndarray>\n",
       "    mdt             (time) float64 dask.array<chunksize=(47519,), meta=np.ndarray>\n",
       "    ocean_tide      (time) float64 dask.array<chunksize=(47519,), meta=np.ndarray>\n",
       "    sla_filtered    (time) float32 dask.array<chunksize=(47519,), meta=np.ndarray>\n",
       "    sla_unfiltered  (time) float32 dask.array<chunksize=(47519,), meta=np.ndarray>\n",
       "Attributes:\n",
       "    Conventions:                     CF-1.6\n",
       "    Metadata_Conventions:            Unidata Dataset Discovery v1.0\n",
       "    cdm_data_type:                   Swath\n",
       "    comment:                         Sea surface height measured by altimeter...\n",
       "    contact:                         servicedesk.cmems@mercator-ocean.eu\n",
       "    creator_email:                   servicedesk.cmems@mercator-ocean.eu\n",
       "    creator_name:                    CMEMS - Sea Level Thematic Assembly Center\n",
       "    creator_url:                     http://marine.copernicus.eu\n",
       "    date_created:                    2019-02-20T12:51:18Z\n",
       "    date_issued:                     2019-02-20T12:51:18Z\n",
       "    date_modified:                   2019-02-20T12:51:18Z\n",
       "    geospatial_lat_max:              66.145123\n",
       "    geospatial_lat_min:              -66.04008\n",
       "    geospatial_lat_resolution:       0.00813500000000289\n",
       "    geospatial_lat_units:            degrees_north\n",
       "    geospatial_lon_max:              359.998787\n",
       "    geospatial_lon_min:              0.012109\n",
       "    geospatial_lon_resolution:       0.02951550000000225\n",
       "    geospatial_lon_units:            degrees_east\n",
       "    geospatial_vertical_max:         0.0\n",
       "    geospatial_vertical_min:         0.0\n",
       "    geospatial_vertical_positive:    down\n",
       "    geospatial_vertical_resolution:  point\n",
       "    geospatial_vertical_units:       m\n",
       "    history:                         2019-02-20T12:51:18Z: Creation\n",
       "    institution:                     CLS, CNES, EUMETSAT\n",
       "    keywords:                        Oceans > Ocean Topography > Sea Surface ...\n",
       "    keywords_vocabulary:             NetCDF COARDS Climate and Forecast Stand...\n",
       "    license:                         http://marine.copernicus.eu/web/27-servi...\n",
       "    platform:                        Jason-3\n",
       "    processing_level:                L3\n",
       "    product_version:                 2019\n",
       "    project:                         EUMETSAT Jason-3 L2P/L3 Marine Altimetry...\n",
       "    references:                      http://marine.copernicus.eu\n",
       "    software_version:                6.2_DUACS_DT2018_baseline\n",
       "    source:                          Jason-3 measurements\n",
       "    ssalto_duacs_comment:            The reference mission used for the altim...\n",
       "    standard_name_vocabulary:        NetCDF Climate and Forecast (CF) Metadat...\n",
       "    summary:                         SSALTO/DUACS Delayed-Time Level-3 sea su...\n",
       "    time_coverage_duration:          P23H16M15.197306S\n",
       "    time_coverage_end:               2017-08-21T23:06:59Z\n",
       "    time_coverage_resolution:        P1S\n",
       "    time_coverage_start:             2017-08-20T23:50:44Z\n",
       "    title:                           DT Jason-3 Global Ocean Along track SSAL..."
      ]
     },
     "execution_count": 50,
     "metadata": {},
     "output_type": "execute_result"
    }
   ],
   "source": [
    "# look into issue with jason3 data\n",
    "\n",
    "_files = glob(mdir+'/**/*.nc', recursive=True)\n",
    "print(len(_files))\n",
    "def pprocess(ds):\n",
    "    variables = ['lwe', 'mdt']\n",
    "    for v in variables:\n",
    "        if v not in ds:\n",
    "            ds[v] = ds.ocean_tide.where(ds.ocean_tide>1e10, drop=False)\n",
    "    return ds\n",
    "            \n",
    "ds = xr.open_mfdataset(_files[:420], combine='nested', \n",
    "                       concat_dim='time', parallel=True, preprocess = pprocess)\n",
    "ds"
   ]
  },
  {
   "cell_type": "code",
   "execution_count": 45,
   "metadata": {},
   "outputs": [
    {
     "name": "stderr",
     "output_type": "stream",
     "text": [
      "distributed.utils_perf - WARNING - full garbage collections took 13% CPU time recently (threshold: 10%)\n",
      "distributed.utils_perf - WARNING - full garbage collections took 13% CPU time recently (threshold: 10%)\n"
     ]
    },
    {
     "data": {
      "text/plain": [
       "<xarray.Dataset>\n",
       "Dimensions:         (time: 27242256)\n",
       "Coordinates:\n",
       "  * time            (time) datetime64[ns] 2018-01-26T23:46:43.693778688 ... 2016-08-02T23:34:32.574447872\n",
       "    longitude       (time) float64 dask.array<chunksize=(70965,), meta=np.ndarray>\n",
       "    latitude        (time) float64 dask.array<chunksize=(70965,), meta=np.ndarray>\n",
       "Data variables:\n",
       "    cycle           (time) int16 dask.array<chunksize=(70965,), meta=np.ndarray>\n",
       "    track           (time) int16 dask.array<chunksize=(70965,), meta=np.ndarray>\n",
       "    dac             (time) float32 dask.array<chunksize=(70965,), meta=np.ndarray>\n",
       "    ocean_tide      (time) float64 dask.array<chunksize=(70965,), meta=np.ndarray>\n",
       "    sla_filtered    (time) float32 dask.array<chunksize=(70965,), meta=np.ndarray>\n",
       "    sla_unfiltered  (time) float32 dask.array<chunksize=(70965,), meta=np.ndarray>\n",
       "Attributes:\n",
       "    Conventions:                     CF-1.6\n",
       "    Metadata_Conventions:            Unidata Dataset Discovery v1.0\n",
       "    cdm_data_type:                   Swath\n",
       "    comment:                         Sea surface height measured by altimeter...\n",
       "    contact:                         servicedesk.cmems@mercator-ocean.eu\n",
       "    creator_email:                   servicedesk.cmems@mercator-ocean.eu\n",
       "    creator_name:                    CMEMS - Sea Level Thematic Assembly Center\n",
       "    creator_url:                     http://marine.copernicus.eu\n",
       "    date_created:                    2019-02-20T12:41:37Z\n",
       "    date_issued:                     2019-02-20T12:41:37Z\n",
       "    date_modified:                   2019-02-20T12:41:37Z\n",
       "    geospatial_lat_max:              66.143461\n",
       "    geospatial_lat_min:              -66.144633\n",
       "    geospatial_lat_resolution:       0.0\n",
       "    geospatial_lat_units:            degrees_north\n",
       "    geospatial_lon_max:              359.989941\n",
       "    geospatial_lon_min:              0.0\n",
       "    geospatial_lon_resolution:       0.0\n",
       "    geospatial_lon_units:            degrees_east\n",
       "    geospatial_vertical_max:         0.0\n",
       "    geospatial_vertical_min:         0.0\n",
       "    geospatial_vertical_positive:    down\n",
       "    geospatial_vertical_resolution:  point\n",
       "    geospatial_vertical_units:       m\n",
       "    history:                         2019-02-20T12:41:37Z: Creation\n",
       "    institution:                     CLS, CNES, EUMETSAT\n",
       "    keywords:                        Oceans > Ocean Topography > Sea Surface ...\n",
       "    keywords_vocabulary:             NetCDF COARDS Climate and Forecast Stand...\n",
       "    license:                         http://marine.copernicus.eu/web/27-servi...\n",
       "    platform:                        Jason-3\n",
       "    processing_level:                L3\n",
       "    product_version:                 2019\n",
       "    project:                         EUMETSAT Jason-3 L2P/L3 Marine Altimetry...\n",
       "    references:                      http://marine.copernicus.eu\n",
       "    software_version:                6.2_DUACS_DT2018_baseline\n",
       "    source:                          Jason-3 measurements\n",
       "    ssalto_duacs_comment:            The reference mission used for the altim...\n",
       "    standard_name_vocabulary:        NetCDF Climate and Forecast (CF) Metadat...\n",
       "    summary:                         SSALTO/DUACS Delayed-Time Level-3 sea su...\n",
       "    time_coverage_duration:          P22H29M7.187741S\n",
       "    time_coverage_end:               2018-01-27T22:15:50Z\n",
       "    time_coverage_resolution:        P1S\n",
       "    time_coverage_start:             2018-01-26T23:46:43Z\n",
       "    title:                           DT Jason-3 Global Ocean Along track SSAL..."
      ]
     },
     "execution_count": 45,
     "metadata": {},
     "output_type": "execute_result"
    }
   ],
   "source": [
    "ds = xr.open_mfdataset(_files[410:], combine='nested', \n",
    "                       concat_dim='time', parallel=True)\n",
    "ds"
   ]
  }
 ],
 "metadata": {
  "kernelspec": {
   "display_name": "Python 3",
   "language": "python",
   "name": "python3"
  },
  "language_info": {
   "codemirror_mode": {
    "name": "ipython",
    "version": 3
   },
   "file_extension": ".py",
   "mimetype": "text/x-python",
   "name": "python",
   "nbconvert_exporter": "python",
   "pygments_lexer": "ipython3",
   "version": "3.7.3"
  }
 },
 "nbformat": 4,
 "nbformat_minor": 4
}
