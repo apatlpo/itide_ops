{
 "cells": [
  {
   "cell_type": "markdown",
   "id": "05b44e41",
   "metadata": {},
   "source": [
    "# geodetic\n",
    "\n",
    "https://gis.stackexchange.com/questions/323317/converting-netcdf-dataset-array-to-geotiff-using-rasterio-python/329141#329141\n",
    "\n",
    "https://gis.stackexchange.com/questions/394455/how-to-find-coordinates-of-pixels-of-a-geotiff-image-with-python\n",
    "\n",
    "https://geopandas.org/en/stable/gallery/geopandas_rasterio_sample.html"
   ]
  },
  {
   "cell_type": "code",
   "execution_count": 1,
   "id": "a3b11612",
   "metadata": {},
   "outputs": [],
   "source": [
    "import pyproj\n",
    "import rasterio\n",
    "from rasterio.transform import Affine\n",
    "import rioxarray\n",
    "\n",
    "import xarray as xr\n",
    "import numpy as np\n",
    "\n",
    "import matplotlib.pyplot as plt\n",
    "import cartopy.crs as ccrs\n",
    "import cartopy.feature as cfeature\n",
    "import cartopy.geodesic as cgeo\n",
    "crs_PlateC = ccrs.PlateCarree()\n",
    "\n",
    "crs = pyproj.CRS.from_epsg(4326)\n",
    "geod = crs.get_geod()"
   ]
  },
  {
   "cell_type": "markdown",
   "id": "d45d3605",
   "metadata": {},
   "source": [
    "---\n",
    "## synthetic box"
   ]
  },
  {
   "cell_type": "code",
   "execution_count": 2,
   "id": "b9f55e21",
   "metadata": {},
   "outputs": [],
   "source": [
    "dx, Lx = 1e3, 200*1e3\n",
    "dy, Ly = 1e3, 100*1e3\n",
    "ds = xr.Dataset(dict(x=np.arange(-Lx/2,Lx/2,dx), y=np.arange(-Ly/2,Ly/2,dy)))\n",
    "xb, yb = xr.broadcast(ds.x, ds.y)"
   ]
  },
  {
   "cell_type": "markdown",
   "id": "e34ac11f",
   "metadata": {},
   "source": [
    "### Create a local projection"
   ]
  },
  {
   "cell_type": "markdown",
   "id": "304fed51",
   "metadata": {},
   "source": [
    "https://gis.stackexchange.com/questions/330746/generating-a-custom-flat-projection-in-pyproj\n",
    "\n",
    "https://pyproj4.github.io/pyproj/stable/api/geod.html?highlight=azimuth"
   ]
  },
  {
   "cell_type": "code",
   "execution_count": 3,
   "id": "a3f66882",
   "metadata": {},
   "outputs": [],
   "source": [
    "# start, end locations of a satellite track\n",
    "lon0, lat0 = -40, 45\n",
    "lon1, lat1 = -39, 46\n",
    "\n",
    "# central point\n",
    "lonc = (lon0+lon1)/2\n",
    "latc = (lat0+lat1)/2"
   ]
  },
  {
   "cell_type": "code",
   "execution_count": 4,
   "id": "66355c31",
   "metadata": {},
   "outputs": [
    {
     "data": {
      "text/plain": [
       "(34.76040696425174, -144.52630644341738, 67837.98365835233)"
      ]
     },
     "execution_count": 4,
     "metadata": {},
     "output_type": "execute_result"
    }
   ],
   "source": [
    "# get bearings and distance\n",
    "az01,az10, dist = geod.inv(lon0, lat0, lon1, lat1)\n",
    "azc1,azc0, dist = geod.inv(lonc, latc, lon1, lat1)\n",
    "az01,az10, dist"
   ]
  },
  {
   "cell_type": "code",
   "execution_count": 19,
   "id": "adc3440b",
   "metadata": {},
   "outputs": [
    {
     "data": {
      "text/plain": [
       "(-39423.6638817209, -55445.989432279115, 38731.88730257274, 55694.10141847772)"
      ]
     },
     "execution_count": 19,
     "metadata": {},
     "output_type": "execute_result"
    }
   ],
   "source": [
    "#crs_wgs = pyproj.CRS.from_string(\"epsg:4326\")\n",
    "proj = pyproj.Proj(proj=\"aeqd\", lat_0=latc, lon_0=lonc, datum=\"WGS84\", units=\"m\")\n",
    "#proj = pyproj.Proj(proj=\"ob_tran\", p_proj=\"aeqd\", o_alpha=45, lat_0=lat, lon_0=lon, datum=\"WGS84\", units=\"m\")\n",
    "#proj = pyproj.Proj(proj=\"omerc\", alpha=0, lat_0=lat0, lon_0=lon0, lonc=lon0, datum=\"WGS84\", units=\"m\")\n",
    "\n",
    "xc, yc = proj.transform(lonc, latc)\n",
    "\n",
    "x0, y0 = proj.transform(lon0, lat0)\n",
    "x1, y1 = proj.transform(lon1, lat1)\n",
    "x0, y0, x1, y1"
   ]
  },
  {
   "cell_type": "code",
   "execution_count": 20,
   "id": "cd4d2bd3",
   "metadata": {},
   "outputs": [
    {
     "data": {
      "text/plain": [
       "((67837.98365835233, -1.4551915228366852e-11),\n",
       " (-68029.25464961569, 709.5983378324017))"
      ]
     },
     "execution_count": 20,
     "metadata": {},
     "output_type": "execute_result"
    }
   ],
   "source": [
    "# get orientation of defined by central point and point 1\n",
    "#phi = -azc1\n",
    "phi = np.arctan2( y1-yc, x1-xc)*180/np.pi\n",
    "\n",
    "# build affine operators\n",
    "a_fwrd = Affine.translation(-xc, -yc) * Affine.rotation(-phi, pivot=(xc, yc))\n",
    "a_back = ~a_fwrd\n",
    "\n",
    "a_fwrd*(x1,y1) , a_fwrd*(x0,y0)"
   ]
  },
  {
   "cell_type": "code",
   "execution_count": 21,
   "id": "bcadcc17",
   "metadata": {},
   "outputs": [],
   "source": [
    "# coordinate of the grid in projection\n",
    "ds[\"xc\"], ds[\"yc\"] = a_back * (xb, yb)\n",
    "\n",
    "# lon/lat coordinates\n",
    "lon, lat = proj.transform(ds.xc, ds.yc, direction=pyproj.enums.TransformDirection.INVERSE)\n",
    "ds[\"lon\"] = ((\"x\", \"y\"), lon)\n",
    "ds[\"lat\"] = ((\"x\", \"y\"), lat)"
   ]
  },
  {
   "cell_type": "code",
   "execution_count": null,
   "id": "a98e7d69",
   "metadata": {},
   "outputs": [],
   "source": []
  },
  {
   "cell_type": "code",
   "execution_count": 22,
   "id": "9379d07d",
   "metadata": {},
   "outputs": [
    {
     "data": {
      "image/png": "[encoded data removed]",
      "text/plain": [
       "<Figure size 432x288 with 1 Axes>"
      ]
     },
     "metadata": {
      "needs_background": "light"
     },
     "output_type": "display_data"
    }
   ],
   "source": [
    "fig, ax = plt.subplots(1,1, subplot_kw=dict(projection=ccrs.Orthographic(lonc, latc)))\n",
    "ax.plot(ds.lon, ds.lat, \".\", color=\"k\", transform=crs_PlateC);\n",
    "ax.plot(lon0, lat0, \"o\", ms=10, color=\"blue\", transform=crs_PlateC)\n",
    "ax.plot(lonc, latc, \"o\", ms=10, color=\"orange\", transform=crs_PlateC)\n",
    "ax.plot(lon1, lat1, \"o\", ms=10, color=\"red\", transform=crs_PlateC)\n",
    "gl = ax.gridlines(draw_labels=True, dms=False, \n",
    "             x_inline=False, y_inline=False, \n",
    "            )\n",
    "gl.right_labels=False\n",
    "gl.top_labels=False"
   ]
  },
  {
   "cell_type": "code",
   "execution_count": 23,
   "id": "bf3bcb00",
   "metadata": {},
   "outputs": [],
   "source": [
    "ds = ds.rio.set_crs(proj.crs)\n",
    "ds = ds.rio.set_spatial_dims(\"x\",\"y\")"
   ]
  },
  {
   "cell_type": "code",
   "execution_count": null,
   "id": "f525e356",
   "metadata": {},
   "outputs": [],
   "source": []
  },
  {
   "cell_type": "code",
   "execution_count": 24,
   "id": "90859c7e",
   "metadata": {},
   "outputs": [],
   "source": [
    "def lonlat2xy(lonc, latc, lon1, lat1, lon, lat):\n",
    "    \"\"\" return coordinates with origin at (lonc, latc) and x-axis aligned \n",
    "    with (lonc, latc) - (lon1, lat1) direction\n",
    "    \n",
    "    \"\"\"\n",
    "\n",
    "    proj = pyproj.Proj(proj=\"aeqd\", lat_0=latc, lon_0=lonc, datum=\"WGS84\", units=\"m\")\n",
    "    # get local coordinate\n",
    "    xc, yc = proj.transform(lonc, latc)\n",
    "    x1, y1 = proj.transform(lon1, lat1)\n",
    "    xl, yl = proj.transform(lon, lat)\n",
    "    # get orientation of defined by central point and point 1\n",
    "    phi = np.arctan2( y1-yc, x1-xc)*180/np.pi\n",
    "    # build affine operators\n",
    "    a_fwrd = Affine.translation(-xc, -yc) * Affine.rotation(-phi, pivot=(xc, yc))\n",
    "    #a_back = ~a_fwrd\n",
    "    \n",
    "    x, y = a_fwrd * (xl, yl)\n",
    "    \n",
    "    return x, y"
   ]
  },
  {
   "cell_type": "code",
   "execution_count": null,
   "id": "85fbaf4c",
   "metadata": {},
   "outputs": [],
   "source": []
  }
 ],
 "metadata": {
  "kernelspec": {
   "display_name": "Python 3 (ipykernel)",
   "language": "python",
   "name": "python3"
  },
  "language_info": {
   "codemirror_mode": {
    "name": "ipython",
    "version": 3
   },
   "file_extension": ".py",
   "mimetype": "text/x-python",
   "name": "python",
   "nbconvert_exporter": "python",
   "pygments_lexer": "ipython3",
   "version": "3.8.8"
  }
 },
 "nbformat": 4,
 "nbformat_minor": 5
}
