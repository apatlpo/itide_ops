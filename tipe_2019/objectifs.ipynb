{
 "cells": [
  {
   "cell_type": "markdown",
   "metadata": {},
   "source": [
    "# TIPE 2019-2020: extraction du signal de marée interne à partir de mesure du niveau de la mer\n",
    "\n",
    "La marée interne est un processus périodique traduisant une perturbation de la stratification océanique.\n",
    "Elle est associée à des fluctuations du niveau de la mer qui sont observables depuis l'espace (altimetrie satellite).\n",
    "L'extraction du signal de marée interne dans les données altimétrique est compliquée par deux difficultés:\n",
    "\n",
    "1. Les fluctuations du niveau de la mer (quelques cm) sont faibles en comparaison à celles associées au reste de la variabilité océanique.\n",
    "\n",
    "2. La résolution temporelle des altimètres (10-20j) ne permet pas de résoudre le signal de marée interne.\n",
    "\n",
    "Pour ces deux raisons, il est donc nécessaire d'accumuler des données sur une fenêtre de temps estimée à quelques années afin de correctement extraire la signature de la marée interne dans les jeux de données altimétriques. \n",
    "Un objectif du TIPE pourrait donc être d'être plus quantitatif à ce sujet: quel est la fenêtre de temps minimal à l'extraction du signal de marée interne? Quel est la loi de dépendance liant la taille de cette fenêtre au rapport signal à bruit et à la résolution temporelle du satellite (en jours).\n",
    "\n",
    "Le travail à réaliser pour répondre à ces questions nécessite:\n",
    "\n",
    "- la production de données synthétiques, l'extraction du signal de marée interne et la comparaison avec le vrai signal\n",
    "\n",
    "- l'analyse de données altimétriques existantes afin d'avoir des grandeurs caractéristiques de signal, bruit, résolution temporelle.\n",
    "\n",
    "- l'analyse de simulations numériques d'écoulement dans un but de comparaison avec les observations (peut-être un peu ambitieux)\n",
    "\n",
    "\n",
    "**Références**:\n",
    "\n",
    "- Egbert and Ray 2017, Tidal Prediction. Journal of Marine Research.\n",
    "- Ray, R. D., and Zaron, E. D. M2 internal tides and their observed wavenumber spectra from satellite altimetry. J. Phys. Oceanogr. 46 (2016), 3–22.\n",
    "- Zhao, Z., Alford, M., and Girton, J. B. Mapping low-mode internal tides from multisatellite altimetry. Oceanography 25 (June 2012).\n",
    "\n",
    "\n",
    "**Liens internets**:\n",
    "\n",
    "- [vidéo](https://www.youtube.com/watch?v=qna0Wy-Xf8I)  M. Alford\n",
    "- [vidéo](https://www.youtube.com/watch?v=mJorZMT6W3M) marée barotrope\n",
    "- [lien](https://tidesandcurrents.noaa.gov/education.html) NOAA sur la marée"
   ]
  },
  {
   "cell_type": "markdown",
   "metadata": {},
   "source": [
    "---\n",
    "## données synthétiques\n",
    "\n",
    "Pour un rapport de signal à bruit une résolution temporelle, générations de plusieurs séries temporelles et extractions des amplitudes de marée, comparaison au signal d'entrée\n",
    "\n",
    "Utilisation de pytide-pangeo"
   ]
  },
  {
   "cell_type": "code",
   "execution_count": null,
   "metadata": {},
   "outputs": [],
   "source": []
  },
  {
   "cell_type": "markdown",
   "metadata": {},
   "source": [
    "---\n",
    "\n",
    "## données altimétriques\n",
    "\n",
    "Sélection d'une mission: Topex-Poseidon\n",
    "\n",
    "Analyse sur le cloud via binder, nécessite de pousser les données"
   ]
  },
  {
   "cell_type": "code",
   "execution_count": null,
   "metadata": {},
   "outputs": [],
   "source": []
  },
  {
   "cell_type": "markdown",
   "metadata": {},
   "source": [
    "---\n",
    "\n",
    "## données de simulations numérique d'écoulement\n",
    "\n",
    "Analyse sur le cloud via binder (lequel?)"
   ]
  },
  {
   "cell_type": "code",
   "execution_count": null,
   "metadata": {},
   "outputs": [],
   "source": []
  }
 ],
 "metadata": {
  "kernelspec": {
   "display_name": "Python 3",
   "language": "python",
   "name": "python3"
  },
  "language_info": {
   "codemirror_mode": {
    "name": "ipython",
    "version": 3
   },
   "file_extension": ".py",
   "mimetype": "text/x-python",
   "name": "python",
   "nbconvert_exporter": "python",
   "pygments_lexer": "ipython3",
   "version": "3.7.3"
  }
 },
 "nbformat": 4,
 "nbformat_minor": 4
}
