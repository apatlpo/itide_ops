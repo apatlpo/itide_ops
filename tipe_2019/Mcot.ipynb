{
 "cells": [
  {
   "cell_type": "markdown",
   "metadata": {},
   "source": [
    "# Extraction du signal de marée interne à partir de mesures altimétriques du niveau de la mer\n",
    "\n",
    "### Positionnement thématiques : \n",
    "Informatique pratique, mathématiques appliquées\n",
    "\n",
    "### Mots clés :\n",
    "-Marée (tide)\n",
    "-Altimètre (altimeter)\n",
    "-Extraction (data extraction)\n",
    "-Bruit (noise)\n",
    "-Fenêtre temporelle (time window)\n",
    "\n",
    "### Bibliographie commentée\n",
    "\n",
    "(contexte)\n",
    "\n",
    "\"Les marées étant très-considérables dans plupart de nos port de l'Océan, et les moyens employés par les marins, soit pour obtenir l'heure, soit pour apprécier la grandeur du flux à un jour donné, étant trop peu précis, j'ai pensé que l'on accueillerait avec plaisir l'annuaire qui renfermerait ces quantités calculées pour tous les jours de l'année\", écrivit au XIXème siècle, l'ingénieur marégraphe Chazallon dans son ouvrage, le premier annuaire des marées.\n",
    "\n",
    "La prédiction des marées est nécessaire à différentes échelles. Dans les zones d'eaux peu profondes, les marins ont besoin de connaître la hauteur d'eau pour savoir à quel moment ils peuvent naviguer. Pour des projets de constructions navales, les ingénieurs consultent les fluctuations des marées afin de programmer les travaux et réaliser des constructions adéquates. Cette prédiction de marée est également utile pour les sports nautiques : les surfeurs, avant de programmer une séance, s'informent sur la marée en utilisant par exemple un annuaire de marée.\n",
    "\n",
    "(méthodes de prédictions de marées)\n",
    "La prédiction des marées est possible grâce à l'observation des variations du niveau de la mer qui permettent, par une analyse harmonique de déterminer les constituents des marées. Les marégraphes sont des di \n",
    "marégraphes, altimètres\n",
    "étude des mesures préalables, méthodes harmoniques de prédiction\n",
    "\n",
    "(difficultés de prédiction selon les endroits)\n",
    "\n",
    "bruits\n",
    "\n",
    "\n",
    "\n",
    "\n",
    "\n",
    "\n",
    "http://refmar.shom.fr/fr/c/document_library/get_file?uuid=1f0dde58-a0f4-4681-b3b5-4c06fb5fd1d4&groupId=10227\n",
    "\n",
    "\n",
    "### Problématique retenue\n",
    "Quelle est la fenêtre temporelle minimale nécessaire à l'extraction du signal de marée? Quelle est la loi de dépendance liant la taille de cette fenêtre au bruit et à la résolution temporelle du satellite?\n",
    "\n",
    "### Objectifs du TIPE \n",
    " - Production de données synthétiques pour déduire les lois de dépendance entre le vrai signal, le bruit et la résolution temporelle\n",
    " - Analyse de données altimétriques afin d'avoir des grandeurs caractéristiques de signal, de bruit et de résolution temporelle\n",
    " - Extraction du signal de marée\n",
    " - Réalisation d'une carte de la fenêtre temporelle dont on a besoin pour estimer le signal de marée le plus précisément possible \n",
    "\n",
    "### Références bibliographiques\n"
   ]
  },
  {
   "cell_type": "code",
   "execution_count": null,
   "metadata": {},
   "outputs": [],
   "source": []
  }
 ],
 "metadata": {
  "kernelspec": {
   "display_name": "Python 3",
   "language": "python",
   "name": "python3"
  },
  "language_info": {
   "codemirror_mode": {
    "name": "ipython",
    "version": 3
   },
   "file_extension": ".py",
   "mimetype": "text/x-python",
   "name": "python",
   "nbconvert_exporter": "python",
   "pygments_lexer": "ipython3",
   "version": "3.7.3"
  }
 },
 "nbformat": 4,
 "nbformat_minor": 4
}
