{
 "cells": [
  {
   "cell_type": "markdown",
   "metadata": {},
   "source": [
    "# Extraction du signal de marée interne à partir de mesures altimétriques du niveau de la mer\n",
    "\n",
    "### Positionnement thématiques : \n",
    "Informatique pratique, mathématiques appliquées\n",
    "\n",
    "### Mots clés :\n",
    "-Marée (tide)\n",
    "-Altimètre (altimeter)\n",
    "-Extraction (data extraction)\n",
    "-Bruit (noise)\n",
    "-Fenêtre temporelle (time window)\n",
    "\n",
    "### Bibliographie commentée\n",
    "\n",
    "\n",
    "\n",
    "### Problématique retenue\n",
    "Quelle est la fenêtre temporelle minimale nécessaire à l'extraction du signal de marée? Quelle est la loi de dépendance liant la taille de cette fenêtre au bruit et à la résolution temporelle du satellite?\n",
    "\n",
    "### Objectifs du TIPE \n",
    " - Production de données synthétiques pour déduire les lois de dépendance entre le vrai signal, le bruit et la résolution temporelle\n",
    " - Analyse de données altimétriques afin d'avoir des grandeurs caractéristiques de signal, de bruit et de résolution temporelle\n",
    " - Extraction du signal de marée\n",
    " - Réalisation d'une carte de la fenêtre temporelle dont on a besoin pour estimer le signal de marée le plus précisément possible \n",
    "\n",
    "### Références bibliographiques\n"
   ]
  },
  {
   "cell_type": "code",
   "execution_count": null,
   "metadata": {},
   "outputs": [],
   "source": []
  }
 ],
 "metadata": {
  "kernelspec": {
   "display_name": "Python 3",
   "language": "python",
   "name": "python3"
  },
  "language_info": {
   "codemirror_mode": {
    "name": "ipython",
    "version": 3
   },
   "file_extension": ".py",
   "mimetype": "text/x-python",
   "name": "python",
   "nbconvert_exporter": "python",
   "pygments_lexer": "ipython3",
   "version": "3.7.3"
  }
 },
 "nbformat": 4,
 "nbformat_minor": 4
}
