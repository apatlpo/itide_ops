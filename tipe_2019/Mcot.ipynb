{
 "cells": [
  {
   "cell_type": "markdown",
   "metadata": {},
   "source": [
    "# Extraction du signal de marée interne à partir de mesures altimétriques du niveau de la mer\n",
    "\n",
    "### Positionnement thématiques : \n",
    "Informatique pratique, mathématiques appliquées\n",
    "\n",
    "### Mots clés :\n",
    "-Marée (tide)\n",
    "-Altimètre (altimeter)\n",
    "-Extraction (data extraction)\n",
    "-Bruit (noise)\n",
    "-Fenêtre temporelle (time window)\n",
    "\n",
    "### Bibliographie commentée\n",
    "\n",
    "Au XIXème siècle, l'ingénieur marégraphe Chazallon répertoria dans le premier annuaire de marées l'ensemble des caractéristiques de la marée à un temps et jour donné pendant toute une année.\n",
    "En effet, la prédiction des marées est nécessaire dans différents domaines. Dans les zones d'eaux peu profondes, les marins ont besoin de connaître la hauteur d'eau pour savoir à quel moment ils peuvent naviguer. Pour des projets de constructions navales, les ingénieurs consultent les fluctuations des marées afin de programmer les travaux et réaliser des constructions adéquates. Cette prédiction de marée est également utile pour les sports nautiques : les surfeurs, avant de programmer une séance, s'informent sur la marée en utilisant par exemple un annuaire de marées.[1] De plus, l'étude des marées a permis de comprendre certains phénomènes environnementaux liés au réchauffement climatique.\n",
    "\n",
    "La prédiction des marées est possible grâce à l'observation des variations du niveau de la mer qui permettent, par une analyse harmonique de plusieurs séries de données enregistrées par des marégraphes, de déterminer les constituants de marées [2]. La méthode des moindres carrés permet de les estimer [3]. Plus il y aura de données, plus les prédictions seront précises. \n",
    "\n",
    "Dans les années 1980, le développement de l'altimètrie satellitale a permis de rendre plus précise les mesures des variations du niveau de la mer, ainsi que de quadriller tout le globe. Un émetteur et un récepteur à bord de l'altimètre mesurent le temps de parcours d'implusions électromagnétiques qui sont réfléchies par la surface de la mer. On peut ainsi en déduire la hauteur d'eau à un endroit donné. Les altimètres sont placés dans des satellites héliosynchrones, qui repassent donc aux mêmes endroits à intervalles de temps réguliers, c'est ce qu'on appelle la résolution temporelle (environ 10-20jours)[4].\n",
    "\n",
    "Même si les phénomènes de marée sont périodiques car liés au mouvement de la Terre autour du Soleil et de la lune autour de la Terre [5], des paramètres, appelés bruits (par exemple des tourbillons marins), viennent perturber la précision des prédictions. Ainsi, la fenêtre temporelle, qui est l'intervalle de temps nécessaire pour une prédiction précise de la marée, devra être plus importante dans les zones où le niveau de bruit est élevé.\n",
    "\n",
    "Ainsi, étant donné qu'il faut prendre en compte la résolution temporelle de l'altimètre et les niveaux de bruits, il est donc nécessaire d'accumuler des données sur une fenêtre de temps estimée à quelques années afin d'extraire correctement la signature de la marée dans les jeux de données altimétriques. \n",
    "\n",
    "### Problématique retenue\n",
    "Quelle est la fenêtre temporelle minimale nécessaire à l'extraction du signal de marée? Quelle est la loi de dépendance liant la taille de cette fenêtre au bruit et à la résolution temporelle du satellite?\n",
    "Comment choisir la fenêtre temporelle en fonction du bruit et de la résolution temporelle du satellite?\n",
    "\n",
    "### Objectifs du TIPE \n",
    " - Produire des données synthétiques pour relier le vrai signal, le bruit et la résolution temporelle\n",
    " - Analyser des données altimétriques afin d'obtenir des grandeurs caractéristiques de signal, de bruit et de résolution temporelle\n",
    " - Extraire un signal de marée\n",
    " - Réaliser une carte de la fenêtre temporelle nécessaire pour estimer le signal de marée le plus précisément possible \n",
    "\n",
    "### Références bibliographiques\n",
    "\n",
    "-[1] https://oceanservice.noaa.gov/education/tutorial_tides/tides09_monitor.html\n",
    "-[2] David Pugh, Philip Woodworth, Tidal analysis and prediction,Chapitre 4, Cambridge University Press, 2014\n",
    "-[3] Richard E. Thomson, William J. Emery Data Analysis Methods in Physical Oceanography Chapitre 3, Book, 2014\n",
    "-[4] http://refmar.shom.fr/fr/applications_maregraphiques/etalonnage-de-l-altimetrie-satellitale\n",
    "-[5] The Open University. Waves, tides and shallow-water processes Chapitre 2, Butterworth Heinemann, 1999\n",
    "\n",
    "http://refmar.shom.fr/fr/c/document_library/get_file?uuid=1f0dde58-a0f4-4681-b3b5-4c06fb5fd1d4&groupId=10227"
   ]
  },
  {
   "cell_type": "code",
   "execution_count": null,
   "metadata": {},
   "outputs": [],
   "source": []
  }
 ],
 "metadata": {
  "kernelspec": {
   "display_name": "Python 3",
   "language": "python",
   "name": "python3"
  },
  "language_info": {
   "codemirror_mode": {
    "name": "ipython",
    "version": 3
   },
   "file_extension": ".py",
   "mimetype": "text/x-python",
   "name": "python",
   "nbconvert_exporter": "python",
   "pygments_lexer": "ipython3",
   "version": "3.7.6"
  }
 },
 "nbformat": 4,
 "nbformat_minor": 4
}
