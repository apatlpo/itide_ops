{
 "cells": [
  {
   "cell_type": "markdown",
   "metadata": {},
   "source": [
    "# Extraction du signal de marée interne à partir de mesures altimétriques du niveau de la mer\n",
    "\n",
    "### Positionnement thématiques : \n",
    "Informatique pratique, mathématiques appliquées\n",
    "\n",
    "### Mots clés :\n",
    "-Marée (tide)\n",
    "-Altimètre (altimeter)\n",
    "-Extraction (data extraction)\n",
    "-Bruit (noise)\n",
    "-Fenêtre temporelle (time window)\n",
    "\n",
    "### Bibliographie commentée\n",
    "\n",
    "Au XIXème siècle, l'ingénieur marégraphe Chazallon répertoria dans le premier annuaire de marées l'ensemble des caractéristiques de la marée à un temps et jour donné pendant toute une année.\n",
    "En effet, la prédiction des marées est nécessaire à différentes échelles. Dans les zones d'eaux peu profondes, les marins ont besoin de connaître la hauteur d'eau pour savoir à quel moment ils peuvent naviguer. Pour des projets de constructions navales, les ingénieurs consultent les fluctuations des marées afin de programmer les travaux et réaliser des constructions adéquates. Cette prédiction de marée est également utile pour les sports nautiques : les surfeurs, avant de programmer une séance, s'informent sur la marée en utilisant par exemple un annuaire de marées.\n",
    "\n",
    "La prédiction des marées est possible grâce à l'observation des variations du niveau de la mer qui permettent, par une analyse harmonique de plusieurs séries de données enregistrées par des marégraphes, de déterminer les constituants de marées. Plus il y aura de données, plus les prédictions seront précises. \n",
    "\n",
    "Dans les années 1980, le développement de l'altimètrie satellitale a permis de rendre plus précises les mesures des variations du niveau de la mer, ainsi que de quadriller tout le globe. Un émetteur et un récepteur à bord de l'altimètre mesurent le temps de parcours d'implusions électromagnétiques qui sont réfléchies par la surface de la mer. On peut ainsi en déduire la hauteur d'eau à un endroit donné. Les altimètres sont placés dans des satellites héliosynchrones, qui repassent donc aux mêmes endroits à intervalles de temps réguliers (environ 10-20jours).\n",
    "\n",
    "Même si les phénomènes de marée sont périodiques car liés au mouvement de la Terre autour du Soleil et de la lune atour de la Terre, des paramètres, appelés bruits (par exemple des tourbillons marins), viennent perturber la précision des prédictions. Ainsi, la fenêtre temporelle nécessaire pour une prédiction précise de la marée devra être plus importante dans les zones où le niveau de bruit est élevé. \n",
    "\n",
    "Ainsi étant donné qu'il faut prendre en compte la résolution temporelle de l'altimètre, et les niveaux de bruits il est donc nécessaire d'accumuler des données sur une fenêtre de temps estimée à quelques années afin de correctement extraire la signature de la marée dans les jeux de données altimétriques. \n",
    "\n",
    "\n",
    "\n",
    "http://refmar.shom.fr/fr/applications_maregraphiques/etalonnage-de-l-altimetrie-satellitale\n",
    "\n",
    "http://refmar.shom.fr/fr/c/document_library/get_file?uuid=1f0dde58-a0f4-4681-b3b5-4c06fb5fd1d4&groupId=10227\n",
    "\n",
    "\n",
    "### Problématique retenue\n",
    "Quelle est la fenêtre temporelle minimale nécessaire à l'extraction du signal de marée? Quelle est la loi de dépendance liant la taille de cette fenêtre au bruit et à la résolution temporelle du satellite?\n",
    "\n",
    "### Objectifs du TIPE \n",
    " - Production de données synthétiques pour déduire les lois de dépendance entre le vrai signal, le bruit et la résolution temporelle\n",
    " - Analyse de données altimétriques afin d'avoir des grandeurs caractéristiques de signal, de bruit et de résolution temporelle\n",
    " - Extraction du signal de marée\n",
    " - Réalisation d'une carte de la fenêtre temporelle dont on a besoin pour estimer le signal de marée le plus précisément possible \n",
    "\n",
    "### Références bibliographiques\n"
   ]
  },
  {
   "cell_type": "code",
   "execution_count": null,
   "metadata": {},
   "outputs": [],
   "source": []
  }
 ],
 "metadata": {
  "kernelspec": {
   "display_name": "Python 3",
   "language": "python",
   "name": "python3"
  },
  "language_info": {
   "codemirror_mode": {
    "name": "ipython",
    "version": 3
   },
   "file_extension": ".py",
   "mimetype": "text/x-python",
   "name": "python",
   "nbconvert_exporter": "python",
   "pygments_lexer": "ipython3",
   "version": "3.7.3"
  }
 },
 "nbformat": 4,
 "nbformat_minor": 4
}
