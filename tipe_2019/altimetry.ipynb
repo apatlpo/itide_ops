{
 "cells": [
  {
   "cell_type": "markdown",
   "metadata": {},
   "source": [
    "# analysis of altimetric data"
   ]
  },
  {
   "cell_type": "code",
   "execution_count": 3,
   "metadata": {},
   "outputs": [],
   "source": [
    "import xarray\n",
    "import gcsfs.mapping\n",
    "fs = gcsfs.GCSFileSystem(project='pangeo-cnes', token=None)\n",
    "gcsmap = gcsfs.mapping.GCSMap('pangeo-cnes/alti/tp', gcs=fs)\n",
    "ds = xarray.open_zarr(gcsmap)"
   ]
  },
  {
   "cell_type": "code",
   "execution_count": 4,
   "metadata": {},
   "outputs": [
    {
     "data": {
      "text/plain": [
       "<xarray.Dataset>\n",
       "Dimensions:         (time: 157384325)\n",
       "Coordinates:\n",
       "    latitude        (time) float64 dask.array<chunksize=(13107200,), meta=np.ndarray>\n",
       "    longitude       (time) float64 dask.array<chunksize=(13107200,), meta=np.ndarray>\n",
       "  * time            (time) datetime64[ns] 1992-12-31T23:20:35.775270144 ... 2002-04-24T07:56:09.359487744\n",
       "Data variables:\n",
       "    cycle           (time) int16 dask.array<chunksize=(13107200,), meta=np.ndarray>\n",
       "    dac             (time) float32 dask.array<chunksize=(13107200,), meta=np.ndarray>\n",
       "    lwe             (time) float32 dask.array<chunksize=(13107200,), meta=np.ndarray>\n",
       "    mdt             (time) float32 dask.array<chunksize=(13107200,), meta=np.ndarray>\n",
       "    ocean_tide      (time) float64 dask.array<chunksize=(13107200,), meta=np.ndarray>\n",
       "    sla_filtered    (time) float32 dask.array<chunksize=(13107200,), meta=np.ndarray>\n",
       "    sla_unfiltered  (time) float32 dask.array<chunksize=(13107200,), meta=np.ndarray>\n",
       "    track           (time) int16 dask.array<chunksize=(13107200,), meta=np.ndarray>\n",
       "Attributes:\n",
       "    Conventions:               CF-1.6\n",
       "    Metadata_Conventions:      Unidata Dataset Discovery v1.0\n",
       "    cdm_data_type:             Swath\n",
       "    comment:                   Sea surface height measured by altimeters refe...\n",
       "    contact:                   servicedesk.cmems@mercator-ocean.eu\n",
       "    creator_email:             servicedesk.cmems@mercator-ocean.eu\n",
       "    creator_name:              CMEMS - Sea Level Thematic Assembly Center\n",
       "    creator_url:               http://marine.copernicus.eu\n",
       "    history:                   2019-02-20T16:50:23Z: Creation\n",
       "    institution:               CLS, CNES\n",
       "    keywords:                  Oceans > Ocean Topography > Sea Surface Height\n",
       "    keywords_vocabulary:       NetCDF COARDS Climate and Forecast Standard Names\n",
       "    license:                   http://marine.copernicus.eu/web/27-service-com...\n",
       "    platform:                  Topex/Poseidon\n",
       "    processing_level:          L3\n",
       "    product_version:           2019\n",
       "    project:                   COPERNICUS MARINE ENVIRONMENT MONITORING SERVI...\n",
       "    references:                http://marine.copernicus.eu\n",
       "    software_version:          6.2_DUACS_DT2018_baseline\n",
       "    source:                    Topex/Poseidon measurements\n",
       "    ssalto_duacs_comment:      The reference mission used for the altimeter i...\n",
       "    standard_name_vocabulary:  NetCDF Climate and Forecast (CF) Metadata Conv...\n",
       "    summary:                   SSALTO/DUACS Delayed-Time Level-3 sea surface ...\n",
       "    title:                     DT Topex/Poseidon Global Ocean Along track SSA..."
      ]
     },
     "execution_count": 4,
     "metadata": {},
     "output_type": "execute_result"
    }
   ],
   "source": [
    "ds"
   ]
  },
  {
   "cell_type": "code",
   "execution_count": null,
   "metadata": {},
   "outputs": [],
   "source": []
  }
 ],
 "metadata": {
  "kernelspec": {
   "display_name": "Python 3",
   "language": "python",
   "name": "python3"
  },
  "language_info": {
   "codemirror_mode": {
    "name": "ipython",
    "version": 3
   },
   "file_extension": ".py",
   "mimetype": "text/x-python",
   "name": "python",
   "nbconvert_exporter": "python",
   "pygments_lexer": "ipython3",
   "version": "3.7.3"
  }
 },
 "nbformat": 4,
 "nbformat_minor": 4
}
