{
 "cells": [
  {
   "cell_type": "markdown",
   "metadata": {},
   "source": [
    "# analysis of altimetric data"
   ]
  },
  {
   "cell_type": "code",
   "execution_count": 4,
   "metadata": {},
   "outputs": [],
   "source": [
    "import numpy as np\n",
    "import pandas as pd\n",
    "import xarray as xr\n",
    "\n",
    "%matplotlib inline\n",
    "import matplotlib.pyplot as plt\n",
    "\n",
    "import gcsfs.mapping\n",
    "\n",
    "#from h3 import h3\n",
    "import pyinterp"
   ]
  },
  {
   "cell_type": "code",
   "execution_count": 1,
   "metadata": {},
   "outputs": [],
   "source": [
    "import dask"
   ]
  },
  {
   "cell_type": "code",
   "execution_count": 12,
   "metadata": {},
   "outputs": [
    {
     "data": {
      "text/plain": [
       "<distributed.deploy.adaptive.Adaptive at 0x7f911e996e80>"
      ]
     },
     "execution_count": 12,
     "metadata": {},
     "output_type": "execute_result"
    }
   ],
   "source": [
    "from dask_kubernetes import KubeCluster\n",
    "cluster = KubeCluster()\n",
    "cluster.adapt(minimum=1, maximum=10)"
   ]
  },
  {
   "cell_type": "code",
   "execution_count": 13,
   "metadata": {},
   "outputs": [
    {
     "data": {
      "application/vnd.jupyter.widget-view+json": {
       "model_id": "edfd86797e3e45de90f09a15e58a1b04",
       "version_major": 2,
       "version_minor": 0
      },
      "text/plain": [
       "VBox(children=(HTML(value='<h2>KubeCluster</h2>'), HBox(children=(HTML(value='\\n<div>\\n  <style scoped>\\n    .…"
      ]
     },
     "metadata": {},
     "output_type": "display_data"
    },
    {
     "name": "stderr",
     "output_type": "stream",
     "text": [
      "Task exception was never retrieved\n",
      "future: <Task finished coro=<_wrap_awaitable() done, defined at /srv/conda/envs/notebook/lib/python3.7/asyncio/tasks.py:596> exception=AssertionError()>\n",
      "Traceback (most recent call last):\n",
      "  File \"/srv/conda/envs/notebook/lib/python3.7/asyncio/tasks.py\", line 603, in _wrap_awaitable\n",
      "    return (yield from awaitable.__await__())\n",
      "  File \"/srv/conda/envs/notebook/lib/python3.7/site-packages/distributed/deploy/spec.py\", line 42, in _\n",
      "    assert self.status == \"running\"\n",
      "AssertionError\n",
      "tornado.application - ERROR - Exception in callback functools.partial(<bound method IOLoop._discard_future_result of <zmq.eventloop.ioloop.ZMQIOLoop object at 0x7f912ba8acc0>>, <Task finished coro=<SpecCluster._correct_state_internal() done, defined at /srv/conda/envs/notebook/lib/python3.7/site-packages/distributed/deploy/spec.py:284> exception=AssertionError()>)\n",
      "Traceback (most recent call last):\n",
      "  File \"/srv/conda/envs/notebook/lib/python3.7/site-packages/tornado/ioloop.py\", line 743, in _run_callback\n",
      "    ret = callback()\n",
      "  File \"/srv/conda/envs/notebook/lib/python3.7/site-packages/tornado/ioloop.py\", line 767, in _discard_future_result\n",
      "    future.result()\n",
      "  File \"/srv/conda/envs/notebook/lib/python3.7/site-packages/distributed/deploy/spec.py\", line 317, in _correct_state_internal\n",
      "    await w  # for tornado gen.coroutine support\n",
      "  File \"/srv/conda/envs/notebook/lib/python3.7/site-packages/distributed/deploy/spec.py\", line 42, in _\n",
      "    assert self.status == \"running\"\n",
      "AssertionError\n",
      "Task exception was never retrieved\n",
      "future: <Task finished coro=<_wrap_awaitable() done, defined at /srv/conda/envs/notebook/lib/python3.7/asyncio/tasks.py:596> exception=AssertionError()>\n",
      "Traceback (most recent call last):\n",
      "  File \"/srv/conda/envs/notebook/lib/python3.7/asyncio/tasks.py\", line 603, in _wrap_awaitable\n",
      "    return (yield from awaitable.__await__())\n",
      "  File \"/srv/conda/envs/notebook/lib/python3.7/site-packages/distributed/deploy/spec.py\", line 42, in _\n",
      "    assert self.status == \"running\"\n",
      "AssertionError\n",
      "tornado.application - ERROR - Exception in callback functools.partial(<bound method IOLoop._discard_future_result of <zmq.eventloop.ioloop.ZMQIOLoop object at 0x7f912ba8acc0>>, <Task finished coro=<AdaptiveCore.adapt() done, defined at /srv/conda/envs/notebook/lib/python3.7/site-packages/distributed/deploy/adaptive_core.py:170> exception=AssertionError()>)\n",
      "Traceback (most recent call last):\n",
      "  File \"/srv/conda/envs/notebook/lib/python3.7/site-packages/tornado/ioloop.py\", line 743, in _run_callback\n",
      "    ret = callback()\n",
      "  File \"/srv/conda/envs/notebook/lib/python3.7/site-packages/tornado/ioloop.py\", line 767, in _discard_future_result\n",
      "    future.result()\n",
      "  File \"/srv/conda/envs/notebook/lib/python3.7/site-packages/distributed/deploy/adaptive_core.py\", line 183, in adapt\n",
      "    recommendations = await self.recommendations(target)\n",
      "  File \"/srv/conda/envs/notebook/lib/python3.7/site-packages/distributed/deploy/adaptive.py\", line 120, in recommendations\n",
      "    await self.cluster\n",
      "  File \"/srv/conda/envs/notebook/lib/python3.7/site-packages/distributed/deploy/spec.py\", line 348, in _\n",
      "    await self._correct_state()\n",
      "  File \"/srv/conda/envs/notebook/lib/python3.7/site-packages/distributed/deploy/spec.py\", line 317, in _correct_state_internal\n",
      "    await w  # for tornado gen.coroutine support\n",
      "  File \"/srv/conda/envs/notebook/lib/python3.7/site-packages/distributed/deploy/spec.py\", line 42, in _\n",
      "    assert self.status == \"running\"\n",
      "AssertionError\n",
      "Task exception was never retrieved\n",
      "future: <Task finished coro=<_wrap_awaitable() done, defined at /srv/conda/envs/notebook/lib/python3.7/asyncio/tasks.py:596> exception=AssertionError()>\n",
      "Traceback (most recent call last):\n",
      "  File \"/srv/conda/envs/notebook/lib/python3.7/asyncio/tasks.py\", line 603, in _wrap_awaitable\n",
      "    return (yield from awaitable.__await__())\n",
      "  File \"/srv/conda/envs/notebook/lib/python3.7/site-packages/distributed/deploy/spec.py\", line 42, in _\n",
      "    assert self.status == \"running\"\n",
      "AssertionError\n",
      "tornado.application - ERROR - Exception in callback functools.partial(<bound method IOLoop._discard_future_result of <zmq.eventloop.ioloop.ZMQIOLoop object at 0x7f912ba8acc0>>, <Task finished coro=<AdaptiveCore.adapt() done, defined at /srv/conda/envs/notebook/lib/python3.7/site-packages/distributed/deploy/adaptive_core.py:170> exception=AssertionError()>)\n",
      "Traceback (most recent call last):\n",
      "  File \"/srv/conda/envs/notebook/lib/python3.7/site-packages/tornado/ioloop.py\", line 743, in _run_callback\n",
      "    ret = callback()\n",
      "  File \"/srv/conda/envs/notebook/lib/python3.7/site-packages/tornado/ioloop.py\", line 767, in _discard_future_result\n",
      "    future.result()\n",
      "  File \"/srv/conda/envs/notebook/lib/python3.7/site-packages/distributed/deploy/adaptive_core.py\", line 183, in adapt\n",
      "    recommendations = await self.recommendations(target)\n",
      "  File \"/srv/conda/envs/notebook/lib/python3.7/site-packages/distributed/deploy/adaptive.py\", line 120, in recommendations\n",
      "    await self.cluster\n",
      "  File \"/srv/conda/envs/notebook/lib/python3.7/site-packages/distributed/deploy/spec.py\", line 348, in _\n",
      "    await self._correct_state()\n",
      "  File \"/srv/conda/envs/notebook/lib/python3.7/site-packages/distributed/deploy/spec.py\", line 317, in _correct_state_internal\n",
      "    await w  # for tornado gen.coroutine support\n",
      "  File \"/srv/conda/envs/notebook/lib/python3.7/site-packages/distributed/deploy/spec.py\", line 42, in _\n",
      "    assert self.status == \"running\"\n",
      "AssertionError\n"
     ]
    }
   ],
   "source": [
    "cluster"
   ]
  },
  {
   "cell_type": "code",
   "execution_count": 2,
   "metadata": {},
   "outputs": [
    {
     "data": {
      "text/html": [
       "<table style=\"border: 2px solid white;\">\n",
       "<tr>\n",
       "<td style=\"vertical-align: top; border: 0px solid white\">\n",
       "<h3 style=\"text-align: left;\">Client</h3>\n",
       "<ul style=\"text-align: left; list-style: none; margin: 0; padding: 0;\">\n",
       "  <li><b>Scheduler: </b>tcp://127.0.0.1:41499</li>\n",
       "  <li><b>Dashboard: </b><a href='/user/apatlpo-itide_ops-xb9myq4p/proxy/8787/status' target='_blank'>/user/apatlpo-itide_ops-xb9myq4p/proxy/8787/status</a>\n",
       "</ul>\n",
       "</td>\n",
       "<td style=\"vertical-align: top; border: 0px solid white\">\n",
       "<h3 style=\"text-align: left;\">Cluster</h3>\n",
       "<ul style=\"text-align: left; list-style:none; margin: 0; padding: 0;\">\n",
       "  <li><b>Workers: </b>4</li>\n",
       "  <li><b>Cores: </b>4</li>\n",
       "  <li><b>Memory: </b>8.59 GB</li>\n",
       "</ul>\n",
       "</td>\n",
       "</tr>\n",
       "</table>"
      ],
      "text/plain": [
       "<Client: 'tcp://127.0.0.1:41499' processes=4 threads=4, memory=8.59 GB>"
      ]
     },
     "execution_count": 2,
     "metadata": {},
     "output_type": "execute_result"
    }
   ],
   "source": [
    "from dask.distributed import Client\n",
    "client = Client()\n",
    "client"
   ]
  },
  {
   "cell_type": "code",
   "execution_count": 5,
   "metadata": {},
   "outputs": [],
   "source": [
    "fs = gcsfs.GCSFileSystem(project='pangeo-cnes', token=None)\n",
    "gcsmap = gcsfs.mapping.GCSMap('pangeo-cnes/alti/tp', gcs=fs)"
   ]
  },
  {
   "cell_type": "code",
   "execution_count": 6,
   "metadata": {},
   "outputs": [
    {
     "name": "stdout",
     "output_type": "stream",
     "text": [
      "Dataset size = 8.8 GB\n"
     ]
    },
    {
     "data": {
      "text/plain": [
       "<xarray.Dataset>\n",
       "Dimensions:         (time: 157384325)\n",
       "Coordinates:\n",
       "    latitude        (time) float64 dask.array<chunksize=(1000000,), meta=np.ndarray>\n",
       "    longitude       (time) float64 dask.array<chunksize=(1000000,), meta=np.ndarray>\n",
       "  * time            (time) datetime64[ns] 1992-12-31T23:20:35.775270144 ... 2002-04-24T07:56:09.359487744\n",
       "Data variables:\n",
       "    cycle           (time) int16 dask.array<chunksize=(1000000,), meta=np.ndarray>\n",
       "    dac             (time) float32 dask.array<chunksize=(1000000,), meta=np.ndarray>\n",
       "    lwe             (time) float32 dask.array<chunksize=(1000000,), meta=np.ndarray>\n",
       "    mdt             (time) float32 dask.array<chunksize=(1000000,), meta=np.ndarray>\n",
       "    ocean_tide      (time) float64 dask.array<chunksize=(1000000,), meta=np.ndarray>\n",
       "    sla_filtered    (time) float32 dask.array<chunksize=(1000000,), meta=np.ndarray>\n",
       "    sla_unfiltered  (time) float32 dask.array<chunksize=(1000000,), meta=np.ndarray>\n",
       "    track           (time) int16 dask.array<chunksize=(1000000,), meta=np.ndarray>\n",
       "Attributes:\n",
       "    Conventions:               CF-1.6\n",
       "    Metadata_Conventions:      Unidata Dataset Discovery v1.0\n",
       "    cdm_data_type:             Swath\n",
       "    comment:                   Sea surface height measured by altimeters refe...\n",
       "    contact:                   servicedesk.cmems@mercator-ocean.eu\n",
       "    creator_email:             servicedesk.cmems@mercator-ocean.eu\n",
       "    creator_name:              CMEMS - Sea Level Thematic Assembly Center\n",
       "    creator_url:               http://marine.copernicus.eu\n",
       "    history:                   2019-02-20T16:50:23Z: Creation\n",
       "    institution:               CLS, CNES\n",
       "    keywords:                  Oceans > Ocean Topography > Sea Surface Height\n",
       "    keywords_vocabulary:       NetCDF COARDS Climate and Forecast Standard Names\n",
       "    license:                   http://marine.copernicus.eu/web/27-service-com...\n",
       "    platform:                  Topex/Poseidon\n",
       "    processing_level:          L3\n",
       "    product_version:           2019\n",
       "    project:                   COPERNICUS MARINE ENVIRONMENT MONITORING SERVI...\n",
       "    references:                http://marine.copernicus.eu\n",
       "    software_version:          6.2_DUACS_DT2018_baseline\n",
       "    source:                    Topex/Poseidon measurements\n",
       "    ssalto_duacs_comment:      The reference mission used for the altimeter i...\n",
       "    standard_name_vocabulary:  NetCDF Climate and Forecast (CF) Metadata Conv...\n",
       "    summary:                   SSALTO/DUACS Delayed-Time Level-3 sea surface ...\n",
       "    title:                     DT Topex/Poseidon Global Ocean Along track SSA..."
      ]
     },
     "execution_count": 6,
     "metadata": {},
     "output_type": "execute_result"
    }
   ],
   "source": [
    "ds = xr.open_zarr(gcsmap, consolidated=True)\n",
    "print('Dataset size = %.1f GB' %(ds.nbytes/1e9))\n",
    "ds"
   ]
  },
  {
   "cell_type": "markdown",
   "metadata": {},
   "source": [
    "---\n",
    "\n",
    "## xhistogram "
   ]
  },
  {
   "cell_type": "code",
   "execution_count": null,
   "metadata": {},
   "outputs": [],
   "source": []
  },
  {
   "cell_type": "markdown",
   "metadata": {},
   "source": [
    "---\n",
    "## pyinterp approach\n",
    "\n",
    "[pyinterp doc](https://pangeo-pyinterp.readthedocs.io/en/latest/examples.html)"
   ]
  },
  {
   "cell_type": "code",
   "execution_count": 8,
   "metadata": {},
   "outputs": [],
   "source": [
    "ds0 = ds"
   ]
  },
  {
   "cell_type": "code",
   "execution_count": 9,
   "metadata": {},
   "outputs": [
    {
     "name": "stdout",
     "output_type": "stream",
     "text": [
      "Dataset size = 5.6 GB\n"
     ]
    }
   ],
   "source": [
    "ds = ds0.isel(time=slice(0,int(1e8))).chunk({'time':1e6})\n",
    "#ds = ds0.where((ds.longitude<45)&(ds.longitude>-45), drop=True)\n",
    "#ds = ds0 # crashes\n",
    "print('Dataset size = %.1f GB' %(ds.nbytes/1e9))"
   ]
  },
  {
   "cell_type": "code",
   "execution_count": 10,
   "metadata": {},
   "outputs": [],
   "source": [
    "ds = ds.persist()"
   ]
  },
  {
   "cell_type": "code",
   "execution_count": 15,
   "metadata": {},
   "outputs": [],
   "source": [
    "binning = pyinterp.Binning2D(\n",
    "    pyinterp.Axis(np.arange(-180, 180, 1), is_circle=True),\n",
    "    pyinterp.Axis(np.arange(-90, 95, 1)))"
   ]
  },
  {
   "cell_type": "code",
   "execution_count": null,
   "metadata": {},
   "outputs": [],
   "source": [
    "#mx, my = np.meshgrid(ds.longitude, ds.latitude)\n",
    "binning.push(ds.longitude, ds.latitude, ds.mdt, simple=True)"
   ]
  },
  {
   "cell_type": "code",
   "execution_count": 13,
   "metadata": {},
   "outputs": [
    {
     "data": {
      "text/plain": [
       "<matplotlib.collections.QuadMesh at 0x7f689236ecf8>"
      ]
     },
     "execution_count": 13,
     "metadata": {},
     "output_type": "execute_result"
    },
    {
     "data": {
      "image/png": "[encoded data removed]",
      "text/plain": [
       "<Figure size 432x288 with 1 Axes>"
      ]
     },
     "metadata": {
      "needs_background": "light"
     },
     "output_type": "display_data"
    }
   ],
   "source": [
    "plt.pcolormesh(binning.variable('mean').T)"
   ]
  },
  {
   "cell_type": "code",
   "execution_count": null,
   "metadata": {},
   "outputs": [],
   "source": [
    "binning.variable('mean')"
   ]
  },
  {
   "cell_type": "code",
   "execution_count": 8,
   "metadata": {},
   "outputs": [
    {
     "data": {
      "text/plain": [
       "(10000,)"
      ]
     },
     "execution_count": 8,
     "metadata": {},
     "output_type": "execute_result"
    }
   ],
   "source": [
    "np.asarray(ds.mdt).flatten().shape"
   ]
  },
  {
   "cell_type": "markdown",
   "metadata": {},
   "source": [
    "---\n",
    "## h3"
   ]
  },
  {
   "cell_type": "code",
   "execution_count": null,
   "metadata": {},
   "outputs": [],
   "source": [
    "ds = ds.isel(time=slice(0,int(1e6)))\n",
    "print('Dataset size = %.1f GB' %(ds.nbytes/1e9))\n",
    "\n",
    "df = ds.to_dataframe()\n",
    "df"
   ]
  },
  {
   "cell_type": "code",
   "execution_count": null,
   "metadata": {},
   "outputs": [],
   "source": [
    "resolution = 7\n",
    "%time df[\"hex_id\"] = df.apply(lambda row: h3.geo_to_h3(row[\"latitude\"], row[\"longitude\"], resolution), axis = 1)"
   ]
  },
  {
   "cell_type": "code",
   "execution_count": null,
   "metadata": {},
   "outputs": [],
   "source": [
    "df"
   ]
  },
  {
   "cell_type": "code",
   "execution_count": null,
   "metadata": {},
   "outputs": [],
   "source": [
    "df_stats = df.groupby('hex_id').mean()"
   ]
  },
  {
   "cell_type": "code",
   "execution_count": null,
   "metadata": {},
   "outputs": [],
   "source": []
  },
  {
   "cell_type": "code",
   "execution_count": null,
   "metadata": {},
   "outputs": [],
   "source": []
  }
 ],
 "metadata": {
  "kernelspec": {
   "display_name": "Python 3",
   "language": "python",
   "name": "python3"
  },
  "language_info": {
   "codemirror_mode": {
    "name": "ipython",
    "version": 3
   },
   "file_extension": ".py",
   "mimetype": "text/x-python",
   "name": "python",
   "nbconvert_exporter": "python",
   "pygments_lexer": "ipython3",
   "version": "3.7.3"
  }
 },
 "nbformat": 4,
 "nbformat_minor": 4
}
