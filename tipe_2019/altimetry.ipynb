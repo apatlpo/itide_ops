{
 "cells": [
  {
   "cell_type": "markdown",
   "metadata": {},
   "source": [
    "# analysis of altimetric data"
   ]
  },
  {
   "cell_type": "code",
   "execution_count": 7,
   "metadata": {},
   "outputs": [],
   "source": [
    "import pandas as pd\n",
    "import xarray as xr\n",
    "\n",
    "#from h3 import h3\n",
    "import pyinterp\n",
    "\n",
    "import gcsfs.mapping\n",
    "fs = gcsfs.GCSFileSystem(project='pangeo-cnes', token=None)\n",
    "gcsmap = gcsfs.mapping.GCSMap('pangeo-cnes/alti/tp', gcs=fs)\n",
    "ds = xarray.open_zarr(gcsmap)"
   ]
  },
  {
   "cell_type": "code",
   "execution_count": 4,
   "metadata": {},
   "outputs": [
    {
     "data": {
      "text/plain": [
       "<xarray.Dataset>\n",
       "Dimensions:         (time: 157384325)\n",
       "Coordinates:\n",
       "    latitude        (time) float64 dask.array<chunksize=(13107200,), meta=np.ndarray>\n",
       "    longitude       (time) float64 dask.array<chunksize=(13107200,), meta=np.ndarray>\n",
       "  * time            (time) datetime64[ns] 1992-12-31T23:20:35.775270144 ... 2002-04-24T07:56:09.359487744\n",
       "Data variables:\n",
       "    cycle           (time) int16 dask.array<chunksize=(13107200,), meta=np.ndarray>\n",
       "    dac             (time) float32 dask.array<chunksize=(13107200,), meta=np.ndarray>\n",
       "    lwe             (time) float32 dask.array<chunksize=(13107200,), meta=np.ndarray>\n",
       "    mdt             (time) float32 dask.array<chunksize=(13107200,), meta=np.ndarray>\n",
       "    ocean_tide      (time) float64 dask.array<chunksize=(13107200,), meta=np.ndarray>\n",
       "    sla_filtered    (time) float32 dask.array<chunksize=(13107200,), meta=np.ndarray>\n",
       "    sla_unfiltered  (time) float32 dask.array<chunksize=(13107200,), meta=np.ndarray>\n",
       "    track           (time) int16 dask.array<chunksize=(13107200,), meta=np.ndarray>\n",
       "Attributes:\n",
       "    Conventions:               CF-1.6\n",
       "    Metadata_Conventions:      Unidata Dataset Discovery v1.0\n",
       "    cdm_data_type:             Swath\n",
       "    comment:                   Sea surface height measured by altimeters refe...\n",
       "    contact:                   servicedesk.cmems@mercator-ocean.eu\n",
       "    creator_email:             servicedesk.cmems@mercator-ocean.eu\n",
       "    creator_name:              CMEMS - Sea Level Thematic Assembly Center\n",
       "    creator_url:               http://marine.copernicus.eu\n",
       "    history:                   2019-02-20T16:50:23Z: Creation\n",
       "    institution:               CLS, CNES\n",
       "    keywords:                  Oceans > Ocean Topography > Sea Surface Height\n",
       "    keywords_vocabulary:       NetCDF COARDS Climate and Forecast Standard Names\n",
       "    license:                   http://marine.copernicus.eu/web/27-service-com...\n",
       "    platform:                  Topex/Poseidon\n",
       "    processing_level:          L3\n",
       "    product_version:           2019\n",
       "    project:                   COPERNICUS MARINE ENVIRONMENT MONITORING SERVI...\n",
       "    references:                http://marine.copernicus.eu\n",
       "    software_version:          6.2_DUACS_DT2018_baseline\n",
       "    source:                    Topex/Poseidon measurements\n",
       "    ssalto_duacs_comment:      The reference mission used for the altimeter i...\n",
       "    standard_name_vocabulary:  NetCDF Climate and Forecast (CF) Metadata Conv...\n",
       "    summary:                   SSALTO/DUACS Delayed-Time Level-3 sea surface ...\n",
       "    title:                     DT Topex/Poseidon Global Ocean Along track SSA..."
      ]
     },
     "execution_count": 4,
     "metadata": {},
     "output_type": "execute_result"
    }
   ],
   "source": [
    "ds"
   ]
  },
  {
   "cell_type": "code",
   "execution_count": 5,
   "metadata": {},
   "outputs": [
    {
     "name": "stdout",
     "output_type": "stream",
     "text": [
      "Dataset size = 0.1 GB\n"
     ]
    },
    {
     "data": {
      "text/html": [
       "<div>\n",
       "<style scoped>\n",
       "    .dataframe tbody tr th:only-of-type {\n",
       "        vertical-align: middle;\n",
       "    }\n",
       "\n",
       "    .dataframe tbody tr th {\n",
       "        vertical-align: top;\n",
       "    }\n",
       "\n",
       "    .dataframe thead th {\n",
       "        text-align: right;\n",
       "    }\n",
       "</style>\n",
       "<table border=\"1\" class=\"dataframe\">\n",
       "  <thead>\n",
       "    <tr style=\"text-align: right;\">\n",
       "      <th></th>\n",
       "      <th>cycle</th>\n",
       "      <th>dac</th>\n",
       "      <th>latitude</th>\n",
       "      <th>longitude</th>\n",
       "      <th>lwe</th>\n",
       "      <th>mdt</th>\n",
       "      <th>ocean_tide</th>\n",
       "      <th>sla_filtered</th>\n",
       "      <th>sla_unfiltered</th>\n",
       "      <th>track</th>\n",
       "    </tr>\n",
       "    <tr>\n",
       "      <th>time</th>\n",
       "      <th></th>\n",
       "      <th></th>\n",
       "      <th></th>\n",
       "      <th></th>\n",
       "      <th></th>\n",
       "      <th></th>\n",
       "      <th></th>\n",
       "      <th></th>\n",
       "      <th></th>\n",
       "      <th></th>\n",
       "    </tr>\n",
       "  </thead>\n",
       "  <tbody>\n",
       "    <tr>\n",
       "      <td>1992-12-31 23:20:35.775270144</td>\n",
       "      <td>11</td>\n",
       "      <td>0.2033</td>\n",
       "      <td>65.681052</td>\n",
       "      <td>327.599941</td>\n",
       "      <td>-0.064</td>\n",
       "      <td>-0.294</td>\n",
       "      <td>0.5490</td>\n",
       "      <td>-0.089</td>\n",
       "      <td>-0.152</td>\n",
       "      <td>18</td>\n",
       "    </tr>\n",
       "    <tr>\n",
       "      <td>1992-12-31 23:20:36.853850112</td>\n",
       "      <td>11</td>\n",
       "      <td>0.2044</td>\n",
       "      <td>65.670173</td>\n",
       "      <td>327.731917</td>\n",
       "      <td>-0.064</td>\n",
       "      <td>-0.297</td>\n",
       "      <td>0.5468</td>\n",
       "      <td>-0.087</td>\n",
       "      <td>-0.013</td>\n",
       "      <td>18</td>\n",
       "    </tr>\n",
       "    <tr>\n",
       "      <td>1992-12-31 23:20:37.932430080</td>\n",
       "      <td>11</td>\n",
       "      <td>0.2062</td>\n",
       "      <td>65.659172</td>\n",
       "      <td>327.863779</td>\n",
       "      <td>-0.064</td>\n",
       "      <td>-0.299</td>\n",
       "      <td>0.5447</td>\n",
       "      <td>-0.084</td>\n",
       "      <td>-0.059</td>\n",
       "      <td>18</td>\n",
       "    </tr>\n",
       "    <tr>\n",
       "      <td>1992-12-31 23:20:39.011010048</td>\n",
       "      <td>11</td>\n",
       "      <td>0.2081</td>\n",
       "      <td>65.648050</td>\n",
       "      <td>327.995525</td>\n",
       "      <td>-0.064</td>\n",
       "      <td>-0.300</td>\n",
       "      <td>0.5426</td>\n",
       "      <td>-0.081</td>\n",
       "      <td>-0.119</td>\n",
       "      <td>18</td>\n",
       "    </tr>\n",
       "    <tr>\n",
       "      <td>1992-12-31 23:20:40.089590272</td>\n",
       "      <td>11</td>\n",
       "      <td>0.2090</td>\n",
       "      <td>65.636807</td>\n",
       "      <td>328.127153</td>\n",
       "      <td>-0.064</td>\n",
       "      <td>-0.302</td>\n",
       "      <td>0.5401</td>\n",
       "      <td>-0.078</td>\n",
       "      <td>-0.100</td>\n",
       "      <td>18</td>\n",
       "    </tr>\n",
       "    <tr>\n",
       "      <td>...</td>\n",
       "      <td>...</td>\n",
       "      <td>...</td>\n",
       "      <td>...</td>\n",
       "      <td>...</td>\n",
       "      <td>...</td>\n",
       "      <td>...</td>\n",
       "      <td>...</td>\n",
       "      <td>...</td>\n",
       "      <td>...</td>\n",
       "      <td>...</td>\n",
       "    </tr>\n",
       "    <tr>\n",
       "      <td>1993-01-21 15:46:01.314065920</td>\n",
       "      <td>13</td>\n",
       "      <td>0.1338</td>\n",
       "      <td>58.036213</td>\n",
       "      <td>321.114859</td>\n",
       "      <td>-0.015</td>\n",
       "      <td>-0.574</td>\n",
       "      <td>-0.1564</td>\n",
       "      <td>-0.097</td>\n",
       "      <td>-0.079</td>\n",
       "      <td>39</td>\n",
       "    </tr>\n",
       "    <tr>\n",
       "      <td>1993-01-21 15:46:02.392645888</td>\n",
       "      <td>13</td>\n",
       "      <td>0.1343</td>\n",
       "      <td>58.073186</td>\n",
       "      <td>321.193158</td>\n",
       "      <td>-0.015</td>\n",
       "      <td>-0.575</td>\n",
       "      <td>-0.1531</td>\n",
       "      <td>-0.103</td>\n",
       "      <td>-0.089</td>\n",
       "      <td>39</td>\n",
       "    </tr>\n",
       "    <tr>\n",
       "      <td>1993-01-21 15:46:03.471226112</td>\n",
       "      <td>13</td>\n",
       "      <td>0.1348</td>\n",
       "      <td>58.110106</td>\n",
       "      <td>321.271627</td>\n",
       "      <td>-0.015</td>\n",
       "      <td>-0.575</td>\n",
       "      <td>-0.1498</td>\n",
       "      <td>-0.109</td>\n",
       "      <td>-0.065</td>\n",
       "      <td>39</td>\n",
       "    </tr>\n",
       "    <tr>\n",
       "      <td>1993-01-21 15:46:04.549805824</td>\n",
       "      <td>13</td>\n",
       "      <td>0.1353</td>\n",
       "      <td>58.146972</td>\n",
       "      <td>321.350267</td>\n",
       "      <td>-0.015</td>\n",
       "      <td>-0.575</td>\n",
       "      <td>-0.1464</td>\n",
       "      <td>-0.114</td>\n",
       "      <td>-0.163</td>\n",
       "      <td>39</td>\n",
       "    </tr>\n",
       "    <tr>\n",
       "      <td>1993-01-21 15:46:05.628385792</td>\n",
       "      <td>13</td>\n",
       "      <td>0.1358</td>\n",
       "      <td>58.183783</td>\n",
       "      <td>321.429081</td>\n",
       "      <td>-0.016</td>\n",
       "      <td>-0.574</td>\n",
       "      <td>-0.1431</td>\n",
       "      <td>-0.120</td>\n",
       "      <td>-0.116</td>\n",
       "      <td>39</td>\n",
       "    </tr>\n",
       "  </tbody>\n",
       "</table>\n",
       "<p>1000000 rows × 10 columns</p>\n",
       "</div>"
      ],
      "text/plain": [
       "                               cycle     dac   latitude   longitude    lwe  \\\n",
       "time                                                                         \n",
       "1992-12-31 23:20:35.775270144     11  0.2033  65.681052  327.599941 -0.064   \n",
       "1992-12-31 23:20:36.853850112     11  0.2044  65.670173  327.731917 -0.064   \n",
       "1992-12-31 23:20:37.932430080     11  0.2062  65.659172  327.863779 -0.064   \n",
       "1992-12-31 23:20:39.011010048     11  0.2081  65.648050  327.995525 -0.064   \n",
       "1992-12-31 23:20:40.089590272     11  0.2090  65.636807  328.127153 -0.064   \n",
       "...                              ...     ...        ...         ...    ...   \n",
       "1993-01-21 15:46:01.314065920     13  0.1338  58.036213  321.114859 -0.015   \n",
       "1993-01-21 15:46:02.392645888     13  0.1343  58.073186  321.193158 -0.015   \n",
       "1993-01-21 15:46:03.471226112     13  0.1348  58.110106  321.271627 -0.015   \n",
       "1993-01-21 15:46:04.549805824     13  0.1353  58.146972  321.350267 -0.015   \n",
       "1993-01-21 15:46:05.628385792     13  0.1358  58.183783  321.429081 -0.016   \n",
       "\n",
       "                                 mdt  ocean_tide  sla_filtered  \\\n",
       "time                                                             \n",
       "1992-12-31 23:20:35.775270144 -0.294      0.5490        -0.089   \n",
       "1992-12-31 23:20:36.853850112 -0.297      0.5468        -0.087   \n",
       "1992-12-31 23:20:37.932430080 -0.299      0.5447        -0.084   \n",
       "1992-12-31 23:20:39.011010048 -0.300      0.5426        -0.081   \n",
       "1992-12-31 23:20:40.089590272 -0.302      0.5401        -0.078   \n",
       "...                              ...         ...           ...   \n",
       "1993-01-21 15:46:01.314065920 -0.574     -0.1564        -0.097   \n",
       "1993-01-21 15:46:02.392645888 -0.575     -0.1531        -0.103   \n",
       "1993-01-21 15:46:03.471226112 -0.575     -0.1498        -0.109   \n",
       "1993-01-21 15:46:04.549805824 -0.575     -0.1464        -0.114   \n",
       "1993-01-21 15:46:05.628385792 -0.574     -0.1431        -0.120   \n",
       "\n",
       "                               sla_unfiltered  track  \n",
       "time                                                  \n",
       "1992-12-31 23:20:35.775270144          -0.152     18  \n",
       "1992-12-31 23:20:36.853850112          -0.013     18  \n",
       "1992-12-31 23:20:37.932430080          -0.059     18  \n",
       "1992-12-31 23:20:39.011010048          -0.119     18  \n",
       "1992-12-31 23:20:40.089590272          -0.100     18  \n",
       "...                                       ...    ...  \n",
       "1993-01-21 15:46:01.314065920          -0.079     39  \n",
       "1993-01-21 15:46:02.392645888          -0.089     39  \n",
       "1993-01-21 15:46:03.471226112          -0.065     39  \n",
       "1993-01-21 15:46:04.549805824          -0.163     39  \n",
       "1993-01-21 15:46:05.628385792          -0.116     39  \n",
       "\n",
       "[1000000 rows x 10 columns]"
      ]
     },
     "execution_count": 5,
     "metadata": {},
     "output_type": "execute_result"
    }
   ],
   "source": [
    "ds = ds.isel(time=slice(0,int(1e6)))\n",
    "print('Dataset size = %.1f GB' %(ds.nbytes/1e9))\n",
    "\n",
    "df = ds.to_dataframe()\n",
    "df"
   ]
  },
  {
   "cell_type": "code",
   "execution_count": null,
   "metadata": {},
   "outputs": [],
   "source": []
  },
  {
   "cell_type": "code",
   "execution_count": null,
   "metadata": {},
   "outputs": [],
   "source": []
  },
  {
   "cell_type": "markdown",
   "metadata": {},
   "source": [
    "---\n",
    "## pyinterp approach\n",
    "\n",
    "[pyinterp doc](https://pangeo-pyinterp.readthedocs.io/en/latest/examples.html)"
   ]
  },
  {
   "cell_type": "code",
   "execution_count": 8,
   "metadata": {},
   "outputs": [
    {
     "ename": "AttributeError",
     "evalue": "module 'pyinterp' has no attribute 'Binning2D'",
     "output_type": "error",
     "traceback": [
      "\u001b[0;31m---------------------------------------------------------------------------\u001b[0m",
      "\u001b[0;31mAttributeError\u001b[0m                            Traceback (most recent call last)",
      "\u001b[0;32m<ipython-input-8-d168b7b1cbc3>\u001b[0m in \u001b[0;36m<module>\u001b[0;34m\u001b[0m\n\u001b[0;32m----> 1\u001b[0;31m binning = pyinterp.Binning2D(\n\u001b[0m\u001b[1;32m      2\u001b[0m     \u001b[0mpyinterp\u001b[0m\u001b[0;34m.\u001b[0m\u001b[0mAxis\u001b[0m\u001b[0;34m(\u001b[0m\u001b[0mnp\u001b[0m\u001b[0;34m.\u001b[0m\u001b[0marange\u001b[0m\u001b[0;34m(\u001b[0m\u001b[0;34m-\u001b[0m\u001b[0;36m180\u001b[0m\u001b[0;34m,\u001b[0m \u001b[0;36m180\u001b[0m\u001b[0;34m,\u001b[0m \u001b[0;36m5\u001b[0m\u001b[0;34m)\u001b[0m\u001b[0;34m,\u001b[0m \u001b[0mis_circle\u001b[0m\u001b[0;34m=\u001b[0m\u001b[0;32mTrue\u001b[0m\u001b[0;34m)\u001b[0m\u001b[0;34m,\u001b[0m\u001b[0;34m\u001b[0m\u001b[0;34m\u001b[0m\u001b[0m\n\u001b[1;32m      3\u001b[0m     pyinterp.Axis(np.arange(-90, 95, 5)))\n",
      "\u001b[0;31mAttributeError\u001b[0m: module 'pyinterp' has no attribute 'Binning2D'"
     ]
    }
   ],
   "source": [
    "binning = pyinterp.Binning2D(\n",
    "    pyinterp.Axis(np.arange(-180, 180, 5), is_circle=True),\n",
    "    pyinterp.Axis(np.arange(-90, 95, 5)))"
   ]
  },
  {
   "cell_type": "code",
   "execution_count": null,
   "metadata": {},
   "outputs": [],
   "source": [
    "mx, my = np.meshgrid(ds.lon, ds.lat)\n",
    "binning.push(mx, my, ds.mss, simple=True)"
   ]
  },
  {
   "cell_type": "code",
   "execution_count": null,
   "metadata": {},
   "outputs": [],
   "source": [
    "binning.variable('mean')"
   ]
  },
  {
   "cell_type": "code",
   "execution_count": null,
   "metadata": {},
   "outputs": [],
   "source": []
  },
  {
   "cell_type": "markdown",
   "metadata": {},
   "source": [
    "---\n",
    "## h3"
   ]
  },
  {
   "cell_type": "code",
   "execution_count": null,
   "metadata": {},
   "outputs": [],
   "source": [
    "resolution = 7\n",
    "%time df[\"hex_id\"] = df.apply(lambda row: h3.geo_to_h3(row[\"latitude\"], row[\"longitude\"], resolution), axis = 1)"
   ]
  },
  {
   "cell_type": "code",
   "execution_count": null,
   "metadata": {},
   "outputs": [],
   "source": [
    "df"
   ]
  },
  {
   "cell_type": "code",
   "execution_count": null,
   "metadata": {},
   "outputs": [],
   "source": [
    "df_stats = df.groupby('hex_id').mean()"
   ]
  },
  {
   "cell_type": "code",
   "execution_count": null,
   "metadata": {},
   "outputs": [],
   "source": []
  },
  {
   "cell_type": "code",
   "execution_count": null,
   "metadata": {},
   "outputs": [],
   "source": []
  }
 ],
 "metadata": {
  "kernelspec": {
   "display_name": "Python 3",
   "language": "python",
   "name": "python3"
  },
  "language_info": {
   "codemirror_mode": {
    "name": "ipython",
    "version": 3
   },
   "file_extension": ".py",
   "mimetype": "text/x-python",
   "name": "python",
   "nbconvert_exporter": "python",
   "pygments_lexer": "ipython3",
   "version": "3.7.3"
  }
 },
 "nbformat": 4,
 "nbformat_minor": 4
}
